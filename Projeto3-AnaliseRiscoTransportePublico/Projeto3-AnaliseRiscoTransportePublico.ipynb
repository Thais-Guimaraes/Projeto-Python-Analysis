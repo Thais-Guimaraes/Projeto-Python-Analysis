{
 "cells": [
  {
   "cell_type": "markdown",
   "id": "76a581e1",
   "metadata": {},
   "source": [
    "# <font color = 'purple'> Projeto com Feedback 3  - Data Science Academy</font>    \n",
    "## <font color = 'purple'> Análise de Risco no Transporte Público </font>    "
   ]
  },
  {
   "cell_type": "markdown",
   "id": "5fdbbcc6",
   "metadata": {},
   "source": [
    "![title](imagens/projeto3.png)"
   ]
  },
  {
   "cell_type": "markdown",
   "id": "82806174",
   "metadata": {},
   "source": [
    "O objetivo deste projeto é responder as seguintes perguntas de negócio a partir do dataset disponível em https://data.world/makeovermonday/2018w51"
   ]
  },
  {
   "cell_type": "code",
   "execution_count": 1,
   "id": "e1eecfb6",
   "metadata": {},
   "outputs": [],
   "source": [
    "# importando as bibliotecas\n",
    "\n",
    "import pandas as pd\n",
    "import numpy as np\n",
    "import pandasql\n",
    "from pandasql import sqldf\n",
    "import matplotlib.pyplot as plt\n",
    "import seaborn as sns\n",
    "from sklearn.experimental import enable_iterative_imputer\n",
    "from sklearn.impute import IterativeImputer\n",
    "import matplotlib.ticker as ticker"
   ]
  },
  {
   "cell_type": "code",
   "execution_count": 2,
   "id": "18cedc1b",
   "metadata": {},
   "outputs": [],
   "source": [
    "# Importando os dados\n",
    "df = pd.read_excel(\"dados/TFL Bus Safety.xlsx\")"
   ]
  },
  {
   "cell_type": "code",
   "execution_count": 3,
   "id": "d1ae9950",
   "metadata": {},
   "outputs": [
    {
     "data": {
      "text/html": [
       "<div>\n",
       "<style scoped>\n",
       "    .dataframe tbody tr th:only-of-type {\n",
       "        vertical-align: middle;\n",
       "    }\n",
       "\n",
       "    .dataframe tbody tr th {\n",
       "        vertical-align: top;\n",
       "    }\n",
       "\n",
       "    .dataframe thead th {\n",
       "        text-align: right;\n",
       "    }\n",
       "</style>\n",
       "<table border=\"1\" class=\"dataframe\">\n",
       "  <thead>\n",
       "    <tr style=\"text-align: right;\">\n",
       "      <th></th>\n",
       "      <th>Year</th>\n",
       "      <th>Date Of Incident</th>\n",
       "      <th>Route</th>\n",
       "      <th>Operator</th>\n",
       "      <th>Group Name</th>\n",
       "      <th>Bus Garage</th>\n",
       "      <th>Borough</th>\n",
       "      <th>Injury Result Description</th>\n",
       "      <th>Incident Event Type</th>\n",
       "      <th>Victim Category</th>\n",
       "      <th>Victims Sex</th>\n",
       "      <th>Victims Age</th>\n",
       "    </tr>\n",
       "  </thead>\n",
       "  <tbody>\n",
       "    <tr>\n",
       "      <th>0</th>\n",
       "      <td>2015</td>\n",
       "      <td>2015-01-01</td>\n",
       "      <td>1</td>\n",
       "      <td>London General</td>\n",
       "      <td>Go-Ahead</td>\n",
       "      <td>Garage Not Available</td>\n",
       "      <td>Southwark</td>\n",
       "      <td>Injuries treated on scene</td>\n",
       "      <td>Onboard Injuries</td>\n",
       "      <td>Passenger</td>\n",
       "      <td>Male</td>\n",
       "      <td>Child</td>\n",
       "    </tr>\n",
       "    <tr>\n",
       "      <th>1</th>\n",
       "      <td>2015</td>\n",
       "      <td>2015-01-01</td>\n",
       "      <td>4</td>\n",
       "      <td>Metroline</td>\n",
       "      <td>Metroline</td>\n",
       "      <td>Garage Not Available</td>\n",
       "      <td>Islington</td>\n",
       "      <td>Injuries treated on scene</td>\n",
       "      <td>Onboard Injuries</td>\n",
       "      <td>Passenger</td>\n",
       "      <td>Male</td>\n",
       "      <td>Unknown</td>\n",
       "    </tr>\n",
       "    <tr>\n",
       "      <th>2</th>\n",
       "      <td>2015</td>\n",
       "      <td>2015-01-01</td>\n",
       "      <td>5</td>\n",
       "      <td>East London</td>\n",
       "      <td>Stagecoach</td>\n",
       "      <td>Garage Not Available</td>\n",
       "      <td>Havering</td>\n",
       "      <td>Taken to Hospital – Reported Serious Injury or...</td>\n",
       "      <td>Onboard Injuries</td>\n",
       "      <td>Passenger</td>\n",
       "      <td>Male</td>\n",
       "      <td>Elderly</td>\n",
       "    </tr>\n",
       "    <tr>\n",
       "      <th>3</th>\n",
       "      <td>2015</td>\n",
       "      <td>2015-01-01</td>\n",
       "      <td>5</td>\n",
       "      <td>East London</td>\n",
       "      <td>Stagecoach</td>\n",
       "      <td>Garage Not Available</td>\n",
       "      <td>None London Borough</td>\n",
       "      <td>Taken to Hospital – Reported Serious Injury or...</td>\n",
       "      <td>Onboard Injuries</td>\n",
       "      <td>Passenger</td>\n",
       "      <td>Male</td>\n",
       "      <td>Elderly</td>\n",
       "    </tr>\n",
       "    <tr>\n",
       "      <th>4</th>\n",
       "      <td>2015</td>\n",
       "      <td>2015-01-01</td>\n",
       "      <td>6</td>\n",
       "      <td>Metroline</td>\n",
       "      <td>Metroline</td>\n",
       "      <td>Garage Not Available</td>\n",
       "      <td>Westminster</td>\n",
       "      <td>Reported Minor Injury - Treated at Hospital</td>\n",
       "      <td>Onboard Injuries</td>\n",
       "      <td>Pedestrian</td>\n",
       "      <td>Female</td>\n",
       "      <td>Elderly</td>\n",
       "    </tr>\n",
       "  </tbody>\n",
       "</table>\n",
       "</div>"
      ],
      "text/plain": [
       "   Year Date Of Incident Route        Operator  Group Name  \\\n",
       "0  2015       2015-01-01     1  London General    Go-Ahead   \n",
       "1  2015       2015-01-01     4       Metroline   Metroline   \n",
       "2  2015       2015-01-01     5     East London  Stagecoach   \n",
       "3  2015       2015-01-01     5     East London  Stagecoach   \n",
       "4  2015       2015-01-01     6       Metroline   Metroline   \n",
       "\n",
       "             Bus Garage              Borough  \\\n",
       "0  Garage Not Available            Southwark   \n",
       "1  Garage Not Available            Islington   \n",
       "2  Garage Not Available             Havering   \n",
       "3  Garage Not Available  None London Borough   \n",
       "4  Garage Not Available          Westminster   \n",
       "\n",
       "                           Injury Result Description Incident Event Type  \\\n",
       "0                          Injuries treated on scene    Onboard Injuries   \n",
       "1                          Injuries treated on scene    Onboard Injuries   \n",
       "2  Taken to Hospital – Reported Serious Injury or...    Onboard Injuries   \n",
       "3  Taken to Hospital – Reported Serious Injury or...    Onboard Injuries   \n",
       "4        Reported Minor Injury - Treated at Hospital    Onboard Injuries   \n",
       "\n",
       "  Victim Category Victims Sex Victims Age  \n",
       "0       Passenger        Male       Child  \n",
       "1       Passenger        Male     Unknown  \n",
       "2       Passenger        Male     Elderly  \n",
       "3       Passenger        Male     Elderly  \n",
       "4      Pedestrian      Female     Elderly  "
      ]
     },
     "execution_count": 3,
     "metadata": {},
     "output_type": "execute_result"
    }
   ],
   "source": [
    "# Visualizando os 5 primeiros registros\n",
    "df.head()"
   ]
  },
  {
   "cell_type": "code",
   "execution_count": 4,
   "id": "52aa25e3",
   "metadata": {},
   "outputs": [
    {
     "data": {
      "text/plain": [
       "(23158, 12)"
      ]
     },
     "execution_count": 4,
     "metadata": {},
     "output_type": "execute_result"
    }
   ],
   "source": [
    "# Visualizando o formato da tabela\n",
    "df.shape"
   ]
  },
  {
   "cell_type": "code",
   "execution_count": 5,
   "id": "26e3acb1",
   "metadata": {},
   "outputs": [
    {
     "data": {
      "text/plain": [
       "Year                                  int64\n",
       "Date Of Incident             datetime64[ns]\n",
       "Route                                object\n",
       "Operator                             object\n",
       "Group Name                           object\n",
       "Bus Garage                           object\n",
       "Borough                              object\n",
       "Injury Result Description            object\n",
       "Incident Event Type                  object\n",
       "Victim Category                      object\n",
       "Victims Sex                          object\n",
       "Victims Age                          object\n",
       "dtype: object"
      ]
     },
     "execution_count": 5,
     "metadata": {},
     "output_type": "execute_result"
    }
   ],
   "source": [
    "# Visualizando os tipos dos dados\n",
    "df.dtypes"
   ]
  },
  {
   "cell_type": "code",
   "execution_count": 9,
   "id": "0a4e6b84",
   "metadata": {},
   "outputs": [
    {
     "data": {
      "text/plain": [
       "23158"
      ]
     },
     "execution_count": 9,
     "metadata": {},
     "output_type": "execute_result"
    }
   ],
   "source": [
    "# a coluna sobre o Ano está completa\n",
    "df['Year'].value_counts().sum()"
   ]
  },
  {
   "cell_type": "code",
   "execution_count": 7,
   "id": "671adc27",
   "metadata": {},
   "outputs": [
    {
     "data": {
      "text/plain": [
       "2017    6573\n",
       "2016    6093\n",
       "2015    5715\n",
       "2018    4777\n",
       "Name: Year, dtype: int64"
      ]
     },
     "execution_count": 7,
     "metadata": {},
     "output_type": "execute_result"
    }
   ],
   "source": [
    "# Verificando a quantidade de linhas por ano\n",
    "df['Year'].value_counts()"
   ]
  },
  {
   "cell_type": "code",
   "execution_count": 8,
   "id": "569bfe64",
   "metadata": {},
   "outputs": [
    {
     "data": {
      "text/plain": [
       "23158"
      ]
     },
     "execution_count": 8,
     "metadata": {},
     "output_type": "execute_result"
    }
   ],
   "source": [
    "# Verificando se tem alguma linha sem a data\n",
    "df['Date Of Incident'].value_counts().sum()"
   ]
  },
  {
   "cell_type": "code",
   "execution_count": 9,
   "id": "9e01efe5",
   "metadata": {},
   "outputs": [
    {
     "data": {
      "text/html": [
       "<div>\n",
       "<style scoped>\n",
       "    .dataframe tbody tr th:only-of-type {\n",
       "        vertical-align: middle;\n",
       "    }\n",
       "\n",
       "    .dataframe tbody tr th {\n",
       "        vertical-align: top;\n",
       "    }\n",
       "\n",
       "    .dataframe thead th {\n",
       "        text-align: right;\n",
       "    }\n",
       "</style>\n",
       "<table border=\"1\" class=\"dataframe\">\n",
       "  <thead>\n",
       "    <tr style=\"text-align: right;\">\n",
       "      <th></th>\n",
       "      <th>Route</th>\n",
       "      <th>Operator</th>\n",
       "      <th>Group Name</th>\n",
       "      <th>Bus Garage</th>\n",
       "      <th>Borough</th>\n",
       "      <th>Injury Result Description</th>\n",
       "      <th>Incident Event Type</th>\n",
       "      <th>Victim Category</th>\n",
       "      <th>Victims Sex</th>\n",
       "      <th>Victims Age</th>\n",
       "    </tr>\n",
       "  </thead>\n",
       "  <tbody>\n",
       "    <tr>\n",
       "      <th>count</th>\n",
       "      <td>23158</td>\n",
       "      <td>23158</td>\n",
       "      <td>23158</td>\n",
       "      <td>23158</td>\n",
       "      <td>23158</td>\n",
       "      <td>23158</td>\n",
       "      <td>23158</td>\n",
       "      <td>23158</td>\n",
       "      <td>23158</td>\n",
       "      <td>23158</td>\n",
       "    </tr>\n",
       "    <tr>\n",
       "      <th>unique</th>\n",
       "      <td>612</td>\n",
       "      <td>25</td>\n",
       "      <td>14</td>\n",
       "      <td>84</td>\n",
       "      <td>35</td>\n",
       "      <td>4</td>\n",
       "      <td>10</td>\n",
       "      <td>17</td>\n",
       "      <td>3</td>\n",
       "      <td>5</td>\n",
       "    </tr>\n",
       "    <tr>\n",
       "      <th>top</th>\n",
       "      <td>OOS</td>\n",
       "      <td>Metroline</td>\n",
       "      <td>Arriva London</td>\n",
       "      <td>Garage Not Available</td>\n",
       "      <td>Westminster</td>\n",
       "      <td>Injuries treated on scene</td>\n",
       "      <td>Slip Trip Fall</td>\n",
       "      <td>Passenger</td>\n",
       "      <td>Female</td>\n",
       "      <td>Adult</td>\n",
       "    </tr>\n",
       "    <tr>\n",
       "      <th>freq</th>\n",
       "      <td>321</td>\n",
       "      <td>3457</td>\n",
       "      <td>4945</td>\n",
       "      <td>8572</td>\n",
       "      <td>1571</td>\n",
       "      <td>17336</td>\n",
       "      <td>6981</td>\n",
       "      <td>18828</td>\n",
       "      <td>11847</td>\n",
       "      <td>10754</td>\n",
       "    </tr>\n",
       "  </tbody>\n",
       "</table>\n",
       "</div>"
      ],
      "text/plain": [
       "        Route   Operator     Group Name            Bus Garage      Borough  \\\n",
       "count   23158      23158          23158                 23158        23158   \n",
       "unique    612         25             14                    84           35   \n",
       "top       OOS  Metroline  Arriva London  Garage Not Available  Westminster   \n",
       "freq      321       3457           4945                  8572         1571   \n",
       "\n",
       "        Injury Result Description Incident Event Type Victim Category  \\\n",
       "count                       23158               23158           23158   \n",
       "unique                          4                  10              17   \n",
       "top     Injuries treated on scene      Slip Trip Fall       Passenger   \n",
       "freq                        17336                6981           18828   \n",
       "\n",
       "       Victims Sex Victims Age  \n",
       "count        23158       23158  \n",
       "unique           3           5  \n",
       "top         Female       Adult  \n",
       "freq         11847       10754  "
      ]
     },
     "execution_count": 9,
     "metadata": {},
     "output_type": "execute_result"
    }
   ],
   "source": [
    "# Resumo estatístico das variáveis categóricas\n",
    "df.describe(include=[object])"
   ]
  },
  {
   "cell_type": "markdown",
   "id": "9955f1b8",
   "metadata": {},
   "source": [
    "### <b>Obs.:</b> Aparentemente não temos nenhum dado faltando, porque todos possuem 23158 linhas, porém vou verificar se são dados válidos"
   ]
  },
  {
   "cell_type": "code",
   "execution_count": 10,
   "id": "87621162",
   "metadata": {},
   "outputs": [
    {
     "data": {
      "text/plain": [
       "array([1, 4, 5, 6, 8, 9, 10, 11, 12, 14, 16, 17, 18, 21, 22, 23, 24, 25,\n",
       "       27, 29, 31, 32, 33, 34, 35, 37, 38, 43, 44, 45, 47, 49, 50, 51, 52,\n",
       "       57, 59, 60, 61, 63, 67, 68, 71, 73, 74, 76, 77, 79, 81, 83, 85, 88,\n",
       "       89, 90, 91, 93, 94, 95, 96, 97, 102, 104, 106, 109, 111, 115, 118,\n",
       "       121, 123, 125, 131, 134, 137, 139, 140, 141, 142, 143, 144, 148,\n",
       "       149, 150, 151, 154, 155, 157, 158, 159, 160, 161, 169, 170, 172,\n",
       "       176, 177, 178, 180, 181, 184, 185, 189, 195, 198, 199, 202, 203,\n",
       "       205, 207, 208, 209, 210, 213, 214, 217, 220, 221, 232, 235, 237,\n",
       "       241, 242, 243, 246, 248, 253, 257, 260, 262, 263, 264, 266, 267,\n",
       "       268, 276, 279, 280, 281, 282, 283, 284, 285, 288, 302, 312, 320,\n",
       "       321, 325, 328, 329, 336, 340, 341, 343, 349, 355, 362, 363, 370,\n",
       "       371, 383, 384, 387, 390, 393, 397, 403, 407, 415, 418, 427, 428,\n",
       "       430, 432, 444, 453, 466, 468, 474, 482, 484, 487, 492, 493, 499,\n",
       "       541, 664, 'B12', 'B13', 'B15', 'C11', 'D3', 'D7', 'D8', 'E11',\n",
       "       'E2', 'E3', 'E5', 'E8', 'E9', 'EL2', 'H12', 'H32', 'H37', 'H91',\n",
       "       'H98', 'K2', 'N15', 'N253', 'N73', 'P5', 'R9', 'S3', 'T31', 'T33',\n",
       "       'U4', 'W14', 'W3', 'W7', 'W8', 'W9', 'X26', 15, 19, 28, 36, 40, 41,\n",
       "       48, 53, 55, 56, 65, 66, 69, 75, 82, 86, 92, 98, 99, 101, 103, 113,\n",
       "       119, 120, 127, 128, 130, 133, 162, 163, 168, 173, 174, 175, 187,\n",
       "       194, 196, 197, 200, 201, 204, 222, 226, 234, 238, 244, 247, 250,\n",
       "       254, 259, 261, 270, 274, 275, 277, 287, 294, 297, 307, 309, 316,\n",
       "       319, 322, 333, 352, 353, 358, 365, 377, 380, 388, 391, 394, 405,\n",
       "       410, 422, 440, 450, 460, 465, 473, 486, 491, 496, 507, 521, 697,\n",
       "       'D6', 'E6', 'E7', 'G1', 'H19', 'H9', 'K1', 'N19', 'N29', 'N38',\n",
       "       'N44', 'N5', 'N89', 'OOS', 'P12', 'P4', 'R11', 'RR', 'T32', 'U1',\n",
       "       'U7', 'W15', 'W19', 7, 42, 54, 62, 64, 70, 72, 80, 87, 108, 110,\n",
       "       114, 122, 124, 136, 145, 147, 152, 165, 183, 188, 190, 191, 212,\n",
       "       227, 228, 229, 230, 236, 245, 251, 271, 289, 291, 299, 303, 315,\n",
       "       324, 330, 332, 354, 356, 372, 381, 406, 455, 472, 607, 'C2', 'EL1',\n",
       "       'H10', 'H2', 'H28', 'N155', 'N2', 'N26', 'N8', 'N87', 'N98', 'R2',\n",
       "       'R68', 'R70', 'S1', 'U2', 'W4', 'W6', 2, 13, 39, 46, 58, 78, 105,\n",
       "       107, 132, 135, 171, 182, 192, 206, 252, 258, 269, 273, 313, 326,\n",
       "       337, 345, 364, 366, 382, 386, 411, 412, 413, 419, 425, 436, 648,\n",
       "       'C1', 'H18', 'N136', 'N279', 'N86', 'P13', 'U9', 30, 112, 164, 186,\n",
       "       224, 225, 231, 249, 265, 317, 318, 357, 360, 395, 396, 423, 481,\n",
       "       669, 'H22', 'N47', 'N9', 'R1', 'W5', 'X68', 117, 166, 179, 193,\n",
       "       215, 216, 233, 240, 290, 296, 305, 314, 379, 463, 470, 476, 'B16',\n",
       "       'H25', 'N63', 'N97', 'R6', 'U3', 'U5', 'W16', 100, 116, 138, 295,\n",
       "       308, 414, 417, 490, 498, 'B11', 'N109', 'N16', 'N55', 'W11', 126,\n",
       "       156, 211, 219, 255, 300, 462, 'H20', 'K3', 'K4', 'N18', 'N20',\n",
       "       'N35', 'N550', 'W13', 359, 376, 401, 'B14', 'H11', 'H14', 'N207',\n",
       "       'R4', 350, 617, 256, 331, 485, 'S4', 'U10', 3, 26, 153, 272, 469,\n",
       "       488, 611, 'N343', 167, 292, 601, 'N199', 'N551', 'N7', 'RV1', 344,\n",
       "       'H26', 'K5', 223, 286, 433, 483, 602, 'C10', 'C3', 424, 'N22', 452,\n",
       "       'E1', 'N3', 'N11', 'N137', 'N91', 'E10', 293, 339, 346, 464, 'A10',\n",
       "       'N28', 20, 327, 'H13', 368, 'R3', 323, 638, 'N74', 298, 'H17', 367,\n",
       "       129, 385, 612, 'N205', 'N83', 'N381', 643, 'EL3', 650, 434, 'N21',\n",
       "       'N133', 'R7', 'N171', 'N1', 632, 'N31', 621, 404, 'R10', 146, 696,\n",
       "       688, 698, 690, 467, 625, 'W12', 'N113', 398, 'N453', '(blank)'],\n",
       "      dtype=object)"
      ]
     },
     "execution_count": 10,
     "metadata": {},
     "output_type": "execute_result"
    }
   ],
   "source": [
    "# temos algumas rotas como \"blank\"\n",
    "df['Route'].unique()"
   ]
  },
  {
   "cell_type": "code",
   "execution_count": 11,
   "id": "41dbe3aa",
   "metadata": {},
   "outputs": [
    {
     "data": {
      "text/plain": [
       "array(['London General', 'Metroline', 'East London', 'Selkent',\n",
       "       'London United', 'London Central', 'Metroline West',\n",
       "       'Tower Transit', 'Arriva London North', 'Abellio London',\n",
       "       'Metrobus', 'Arriva London South', 'Arriva The Shires',\n",
       "       'Arriva Kent Thameside', 'Abellio West', 'Docklands Buses',\n",
       "       'Blue Triangle Buses', 'H R Richmond', 'C T Plus',\n",
       "       'London Sovereign', 'TGM GROUP', 'Sullivan Buses', 'Uno Buses',\n",
       "       'Quality Line', 'Sullivan Bus & Coach'], dtype=object)"
      ]
     },
     "execution_count": 11,
     "metadata": {},
     "output_type": "execute_result"
    }
   ],
   "source": [
    "# temos muitos operadores\n",
    "df['Operator'].unique()"
   ]
  },
  {
   "cell_type": "code",
   "execution_count": 12,
   "id": "3cd32d79",
   "metadata": {},
   "outputs": [
    {
     "data": {
      "text/plain": [
       "array(['Go-Ahead', 'Metroline', 'Stagecoach', 'London United',\n",
       "       'Tower Transit', 'Arriva London', 'Abellio', 'Arriva The Shires',\n",
       "       'Arriva Kent Thameside', 'Quality Line', 'CT Plus', 'TGM',\n",
       "       'Sullivan Buses', 'Uno Buses'], dtype=object)"
      ]
     },
     "execution_count": 12,
     "metadata": {},
     "output_type": "execute_result"
    }
   ],
   "source": [
    "# Grupos dos Operadores, os operadores fazem parte de um grupo\n",
    "df['Group Name'].unique()"
   ]
  },
  {
   "cell_type": "code",
   "execution_count": 13,
   "id": "e64d630c",
   "metadata": {},
   "outputs": [
    {
     "data": {
      "text/plain": [
       "array(['Garage Not Available', 'Mandela Way (London General)', 'Norwood',\n",
       "       'Battersea (Abellio London)', 'Holloway',\n",
       "       'Barking (East London Buses)', 'Bow', 'Stockwell', 'Camberwell',\n",
       "       'Edgware (Sovereign)', 'Putney', 'Cricklewood',\n",
       "       'Willesden Junction', 'Lea Interchange', 'Wood Green',\n",
       "       'Atlas Road', 'Fulwell (London United)', 'New Cross', 'Clapton',\n",
       "       'Merton', \"King'S Cross\", 'Catford', 'Leyton', 'Brixton',\n",
       "       'Plumstead', 'Willesden', 'Croydon (Arriva)', 'Bromley', 'Peckham',\n",
       "       'Thornton Heath', 'Grays', 'Stamford Hill', 'Perivale', 'Sutton',\n",
       "       'Hounslow', 'Potters Bar', 'Tolworth',\n",
       "       'Romford (East London Buses)', 'Bexleyheath', 'West Perivale',\n",
       "       'Shepherds Bush', 'Rainham (East London Buses)',\n",
       "       'Ash Grove (Arriva)', 'Beddington (Abellio London)', 'Brentford',\n",
       "       'Enfield', 'Tottenham', 'Orpington (Metrobus)', 'Barking (Arriva)',\n",
       "       'Croydon (Metrobus)', 'Silvertown', 'Harrow Weald',\n",
       "       'Palmers Green', 'Watford', 'River Road', 'Hackney Ash Grove',\n",
       "       'West Ham', 'Dartford', 'Walworth', 'Belvedere', 'Harrow',\n",
       "       'Edgware (Metroline)', 'Greenford (Metroline)',\n",
       "       'Hayes (Metroline)', 'Park Royal', 'Alperton',\n",
       "       'Twickenham (Abellio London W)', 'Northumberland Park',\n",
       "       'Hounslow Heath', 'Epsom', 'Waterloo', 'Stamford Brook',\n",
       "       'Hayes (Abellio London W)', 'Waterside Way', 'Uxbridge',\n",
       "       'Westbourne Park', 'Heathrow', 'South Mimms', 'Edmonton',\n",
       "       'Hatfield', 'Walthamstow Avenue', 'Southall', 'Morden Wharf Road',\n",
       "       'Kangley Bridge Road'], dtype=object)"
      ]
     },
     "execution_count": 13,
     "metadata": {},
     "output_type": "execute_result"
    }
   ],
   "source": [
    "df['Bus Garage'].unique()"
   ]
  },
  {
   "cell_type": "code",
   "execution_count": 14,
   "id": "9c3e9188",
   "metadata": {},
   "outputs": [
    {
     "data": {
      "text/plain": [
       "array(['Southwark', 'Islington', 'Havering', 'None London Borough',\n",
       "       'Westminster', 'City of London', 'Hammersmith & Fulham',\n",
       "       'Kensington & Chelsea', 'Brent', 'Camden', 'Hounslow',\n",
       "       'Richmond Upon Thames', 'Enfield', 'Waltham Forest', 'Wandsworth',\n",
       "       'Hackney', 'Barnet', 'Lambeth', 'Lewisham', 'Croydon', 'Bexley',\n",
       "       'Kingston upon Thames', 'Merton', 'Bromley', 'Haringey', 'Ealing',\n",
       "       'Hillingdon', 'Newham', 'Harrow', 'Sutton', 'Greenwich',\n",
       "       'Redbridge', 'Tower Hamlets', 'Barking & Dagenham',\n",
       "       'Not specified'], dtype=object)"
      ]
     },
     "execution_count": 14,
     "metadata": {},
     "output_type": "execute_result"
    }
   ],
   "source": [
    "df['Borough'].unique()"
   ]
  },
  {
   "cell_type": "code",
   "execution_count": 15,
   "id": "0f074674",
   "metadata": {},
   "outputs": [
    {
     "data": {
      "text/plain": [
       "array(['Injuries treated on scene',\n",
       "       'Taken to Hospital – Reported Serious Injury or Severity Unknown',\n",
       "       'Reported Minor Injury - Treated at Hospital', 'Fatal'],\n",
       "      dtype=object)"
      ]
     },
     "execution_count": 15,
     "metadata": {},
     "output_type": "execute_result"
    }
   ],
   "source": [
    "df['Injury Result Description'].unique()"
   ]
  },
  {
   "cell_type": "code",
   "execution_count": 16,
   "id": "1f957637",
   "metadata": {},
   "outputs": [
    {
     "data": {
      "text/plain": [
       "array(['Onboard Injuries', 'Collision Incident', 'Assault',\n",
       "       'Vandalism Hooliganism', 'Safety Critical Failure',\n",
       "       'Personal Injury', 'Slip Trip Fall', 'Activity Incident Event',\n",
       "       'Fire', 'Robbery'], dtype=object)"
      ]
     },
     "execution_count": 16,
     "metadata": {},
     "output_type": "execute_result"
    }
   ],
   "source": [
    "df['Incident Event Type'].unique()"
   ]
  },
  {
   "cell_type": "code",
   "execution_count": 17,
   "id": "e3c10d9e",
   "metadata": {},
   "outputs": [
    {
     "data": {
      "text/plain": [
       "array(['Passenger', 'Pedestrian', 'Conductor', 'Bus Driver',\n",
       "       'Member Of Public', 'Cyclist', 'Motorcyclist',\n",
       "       '3rd Party driver / Occupant', 'Other', 'Non-Operational Staff',\n",
       "       'Operational Staff', 'Contractor Staff', 'TfL Staff',\n",
       "       'Operations staff (other)', 'Cyclist ', 'Motorcyclist ',\n",
       "       'Insufficient Data'], dtype=object)"
      ]
     },
     "execution_count": 17,
     "metadata": {},
     "output_type": "execute_result"
    }
   ],
   "source": [
    "df['Victim Category'].unique()"
   ]
  },
  {
   "cell_type": "code",
   "execution_count": 18,
   "id": "94ec2482",
   "metadata": {},
   "outputs": [
    {
     "data": {
      "text/plain": [
       "Female     11847\n",
       "Male        7709\n",
       "Unknown     3602\n",
       "Name: Victims Sex, dtype: int64"
      ]
     },
     "execution_count": 18,
     "metadata": {},
     "output_type": "execute_result"
    }
   ],
   "source": [
    "df['Victims Sex'].value_counts()"
   ]
  },
  {
   "cell_type": "code",
   "execution_count": 19,
   "id": "0b4c4d0f",
   "metadata": {},
   "outputs": [
    {
     "data": {
      "text/plain": [
       "Adult      10754\n",
       "Unknown     7135\n",
       "Elderly     2769\n",
       "Child       2181\n",
       "Youth        319\n",
       "Name: Victims Age, dtype: int64"
      ]
     },
     "execution_count": 19,
     "metadata": {},
     "output_type": "execute_result"
    }
   ],
   "source": [
    "df['Victims Age'].value_counts()"
   ]
  },
  {
   "cell_type": "code",
   "execution_count": 20,
   "id": "ef1f934f",
   "metadata": {},
   "outputs": [
    {
     "data": {
      "text/plain": [
       "Year                         0\n",
       "Date Of Incident             0\n",
       "Route                        0\n",
       "Operator                     0\n",
       "Group Name                   0\n",
       "Bus Garage                   0\n",
       "Borough                      0\n",
       "Injury Result Description    0\n",
       "Incident Event Type          0\n",
       "Victim Category              0\n",
       "Victims Sex                  0\n",
       "Victims Age                  0\n",
       "dtype: int64"
      ]
     },
     "execution_count": 20,
     "metadata": {},
     "output_type": "execute_result"
    }
   ],
   "source": [
    "df.isnull().sum()"
   ]
  },
  {
   "cell_type": "markdown",
   "id": "a89f1e49",
   "metadata": {},
   "source": [
    "### Vamos criar a coluna \"Month\" será necessário mais tarde"
   ]
  },
  {
   "cell_type": "code",
   "execution_count": 12,
   "id": "f28f1637",
   "metadata": {},
   "outputs": [],
   "source": [
    "# Criar a coluna \"Month\"\n",
    "dados = df.copy()\n",
    "dados['Date Of Incident'] = dados['Date Of Incident'].astype(str)\n",
    "dados.insert(loc = 1,\n",
    "          column = 'Month',\n",
    "          value = dados['Date Of Incident'].str.split('-', expand = True)[1])"
   ]
  },
  {
   "cell_type": "code",
   "execution_count": 13,
   "id": "c077a490",
   "metadata": {},
   "outputs": [],
   "source": [
    "# Excluindo a coluna Date Of Incident\n",
    "dados.drop(columns = ['Date Of Incident'],inplace = True)\n"
   ]
  },
  {
   "cell_type": "code",
   "execution_count": 14,
   "id": "c528e9ad",
   "metadata": {},
   "outputs": [
    {
     "data": {
      "text/html": [
       "<div>\n",
       "<style scoped>\n",
       "    .dataframe tbody tr th:only-of-type {\n",
       "        vertical-align: middle;\n",
       "    }\n",
       "\n",
       "    .dataframe tbody tr th {\n",
       "        vertical-align: top;\n",
       "    }\n",
       "\n",
       "    .dataframe thead th {\n",
       "        text-align: right;\n",
       "    }\n",
       "</style>\n",
       "<table border=\"1\" class=\"dataframe\">\n",
       "  <thead>\n",
       "    <tr style=\"text-align: right;\">\n",
       "      <th></th>\n",
       "      <th>Year</th>\n",
       "      <th>Month</th>\n",
       "      <th>Route</th>\n",
       "      <th>Operator</th>\n",
       "      <th>Group Name</th>\n",
       "      <th>Bus Garage</th>\n",
       "      <th>Borough</th>\n",
       "      <th>Injury Result Description</th>\n",
       "      <th>Incident Event Type</th>\n",
       "      <th>Victim Category</th>\n",
       "      <th>Victims Sex</th>\n",
       "      <th>Victims Age</th>\n",
       "    </tr>\n",
       "  </thead>\n",
       "  <tbody>\n",
       "    <tr>\n",
       "      <th>0</th>\n",
       "      <td>2015</td>\n",
       "      <td>01</td>\n",
       "      <td>1</td>\n",
       "      <td>London General</td>\n",
       "      <td>Go-Ahead</td>\n",
       "      <td>Garage Not Available</td>\n",
       "      <td>Southwark</td>\n",
       "      <td>Injuries treated on scene</td>\n",
       "      <td>Onboard Injuries</td>\n",
       "      <td>Passenger</td>\n",
       "      <td>Male</td>\n",
       "      <td>Child</td>\n",
       "    </tr>\n",
       "    <tr>\n",
       "      <th>1</th>\n",
       "      <td>2015</td>\n",
       "      <td>01</td>\n",
       "      <td>4</td>\n",
       "      <td>Metroline</td>\n",
       "      <td>Metroline</td>\n",
       "      <td>Garage Not Available</td>\n",
       "      <td>Islington</td>\n",
       "      <td>Injuries treated on scene</td>\n",
       "      <td>Onboard Injuries</td>\n",
       "      <td>Passenger</td>\n",
       "      <td>Male</td>\n",
       "      <td>Unknown</td>\n",
       "    </tr>\n",
       "  </tbody>\n",
       "</table>\n",
       "</div>"
      ],
      "text/plain": [
       "   Year Month Route        Operator Group Name            Bus Garage  \\\n",
       "0  2015    01     1  London General   Go-Ahead  Garage Not Available   \n",
       "1  2015    01     4       Metroline  Metroline  Garage Not Available   \n",
       "\n",
       "     Borough  Injury Result Description Incident Event Type Victim Category  \\\n",
       "0  Southwark  Injuries treated on scene    Onboard Injuries       Passenger   \n",
       "1  Islington  Injuries treated on scene    Onboard Injuries       Passenger   \n",
       "\n",
       "  Victims Sex Victims Age  \n",
       "0        Male       Child  \n",
       "1        Male     Unknown  "
      ]
     },
     "execution_count": 14,
     "metadata": {},
     "output_type": "execute_result"
    }
   ],
   "source": [
    "dados.head(2)"
   ]
  },
  {
   "cell_type": "markdown",
   "id": "5d88b1a1",
   "metadata": {},
   "source": [
    "### Alterar os nomes das colunas para ficar conforme as melhores práticas"
   ]
  },
  {
   "cell_type": "code",
   "execution_count": 15,
   "id": "5e1a8e97",
   "metadata": {},
   "outputs": [],
   "source": [
    "# Alterando o nome das colunas\n",
    "dados.rename(columns = {'Group Name': 'Group_Name','Bus Garage':'Bus_Garage','Injury Result Description':'Injury_Result_Description', 'Incident Event Type':'Incident_Event_Type','Victim Category':'Victim_Category', 'Victims Sex':'Gender', 'Victims Age':'Age'}, inplace = True)"
   ]
  },
  {
   "cell_type": "code",
   "execution_count": 16,
   "id": "011ec320",
   "metadata": {},
   "outputs": [
    {
     "data": {
      "text/plain": [
       "Index(['Year', 'Month', 'Route', 'Operator', 'Group_Name', 'Bus_Garage',\n",
       "       'Borough', 'Injury_Result_Description', 'Incident_Event_Type',\n",
       "       'Victim_Category', 'Gender', 'Age'],\n",
       "      dtype='object')"
      ]
     },
     "execution_count": 16,
     "metadata": {},
     "output_type": "execute_result"
    }
   ],
   "source": [
    "dados.columns"
   ]
  },
  {
   "cell_type": "markdown",
   "id": "5fb5a0c0",
   "metadata": {},
   "source": [
    "### Alterar a coluna \"Year\" para categórica"
   ]
  },
  {
   "cell_type": "code",
   "execution_count": 17,
   "id": "c534a93a",
   "metadata": {},
   "outputs": [],
   "source": [
    "# Alterando a coluna Year para categórica\n",
    "dados['Year'] = dados.Year.astype(str)"
   ]
  },
  {
   "cell_type": "code",
   "execution_count": 18,
   "id": "338615cf",
   "metadata": {},
   "outputs": [
    {
     "data": {
      "text/plain": [
       "Year                         object\n",
       "Month                        object\n",
       "Route                        object\n",
       "Operator                     object\n",
       "Group_Name                   object\n",
       "Bus_Garage                   object\n",
       "Borough                      object\n",
       "Injury_Result_Description    object\n",
       "Incident_Event_Type          object\n",
       "Victim_Category              object\n",
       "Gender                       object\n",
       "Age                          object\n",
       "dtype: object"
      ]
     },
     "execution_count": 18,
     "metadata": {},
     "output_type": "execute_result"
    }
   ],
   "source": [
    "dados.dtypes"
   ]
  },
  {
   "cell_type": "markdown",
   "id": "da44a870",
   "metadata": {},
   "source": [
    "### Ajustar as variáveis \"Gender\" e \"Age\", pois existem alguns dados como \"Desconhecido\" / Irei aplicar imputação, utilizando IterativeImputer e para isso precisamos ajustar para o tipo numérico e deixaremos o tipo desconhecido como NaN"
   ]
  },
  {
   "cell_type": "code",
   "execution_count": 47,
   "id": "5a43621c",
   "metadata": {},
   "outputs": [],
   "source": [
    "# Criando um dicionário que irá representar as classes Female como 0, Male como 1 e Unknhow como NAN (numpy)\n",
    "\n",
    "dic_gender = {'Female' : 0, 'Male' : 1, 'Unknown' : np.nan}\n",
    "\n",
    "# Aplicando a função map que aplicará o dicionário na nova coluna Gender_class\n",
    "dados['Gender_class'] = dados['Gender'].map(dic_gender)"
   ]
  },
  {
   "cell_type": "code",
   "execution_count": 48,
   "id": "66c45017",
   "metadata": {},
   "outputs": [],
   "source": [
    "# Mesmo procedimento que foi feito acima, está sendo feito para a variável \"Age\"\n",
    "\n",
    "dic_age = {'Child' : 0, 'Youth' : 1, 'Adult' : 2,'Elderly':3,'Unknown':np.nan}\n",
    "dados['Age_class'] = dados['Age'].map(dic_age)"
   ]
  },
  {
   "cell_type": "markdown",
   "id": "fd94ed1c",
   "metadata": {},
   "source": [
    "### Agora temos as colunas Gender_class e Age_class representando as classes de forma numérica"
   ]
  },
  {
   "cell_type": "code",
   "execution_count": 52,
   "id": "ca1a0946",
   "metadata": {},
   "outputs": [
    {
     "data": {
      "text/html": [
       "<div>\n",
       "<style scoped>\n",
       "    .dataframe tbody tr th:only-of-type {\n",
       "        vertical-align: middle;\n",
       "    }\n",
       "\n",
       "    .dataframe tbody tr th {\n",
       "        vertical-align: top;\n",
       "    }\n",
       "\n",
       "    .dataframe thead th {\n",
       "        text-align: right;\n",
       "    }\n",
       "</style>\n",
       "<table border=\"1\" class=\"dataframe\">\n",
       "  <thead>\n",
       "    <tr style=\"text-align: right;\">\n",
       "      <th></th>\n",
       "      <th>Year</th>\n",
       "      <th>Month</th>\n",
       "      <th>Route</th>\n",
       "      <th>Operator</th>\n",
       "      <th>Group_Name</th>\n",
       "      <th>Bus_Garage</th>\n",
       "      <th>Borough</th>\n",
       "      <th>Injury_Result_Description</th>\n",
       "      <th>Incident_Event_Type</th>\n",
       "      <th>Victim_Category</th>\n",
       "      <th>Gender</th>\n",
       "      <th>Age</th>\n",
       "      <th>Gender_class</th>\n",
       "      <th>Age_class</th>\n",
       "    </tr>\n",
       "  </thead>\n",
       "  <tbody>\n",
       "    <tr>\n",
       "      <th>0</th>\n",
       "      <td>2015</td>\n",
       "      <td>01</td>\n",
       "      <td>1</td>\n",
       "      <td>London General</td>\n",
       "      <td>Go-Ahead</td>\n",
       "      <td>Garage Not Available</td>\n",
       "      <td>Southwark</td>\n",
       "      <td>Injuries treated on scene</td>\n",
       "      <td>Onboard Injuries</td>\n",
       "      <td>Passenger</td>\n",
       "      <td>Male</td>\n",
       "      <td>Child</td>\n",
       "      <td>1.0</td>\n",
       "      <td>0.0</td>\n",
       "    </tr>\n",
       "  </tbody>\n",
       "</table>\n",
       "</div>"
      ],
      "text/plain": [
       "   Year Month Route        Operator Group_Name            Bus_Garage  \\\n",
       "0  2015    01     1  London General   Go-Ahead  Garage Not Available   \n",
       "\n",
       "     Borough  Injury_Result_Description Incident_Event_Type Victim_Category  \\\n",
       "0  Southwark  Injuries treated on scene    Onboard Injuries       Passenger   \n",
       "\n",
       "  Gender    Age  Gender_class  Age_class  \n",
       "0   Male  Child           1.0        0.0  "
      ]
     },
     "execution_count": 52,
     "metadata": {},
     "output_type": "execute_result"
    }
   ],
   "source": [
    "# Agora temos as colunas com suas respectivas numerações, \n",
    "dados.head(1)"
   ]
  },
  {
   "cell_type": "code",
   "execution_count": 51,
   "id": "1eb5e6b0",
   "metadata": {},
   "outputs": [
    {
     "name": "stdout",
     "output_type": "stream",
     "text": [
      "float64\n",
      "float64\n"
     ]
    }
   ],
   "source": [
    "# as colunas estão agora com o tipo float\n",
    "print(dados['Gender_class'].dtype)\n",
    "print(dados['Age_class'].dtype)"
   ]
  },
  {
   "cell_type": "markdown",
   "id": "a2b231d0",
   "metadata": {},
   "source": [
    "### Ajustar o tipo das novas colunas"
   ]
  },
  {
   "cell_type": "code",
   "execution_count": 53,
   "id": "2c6529fb",
   "metadata": {},
   "outputs": [],
   "source": [
    "dados['Gender_class'] = dados['Gender_class'].fillna(-1)\n",
    "dados['Gender_class'] = dados['Gender_class'].astype(int)\n",
    "dados['Gender_class'] = dados['Gender_class'].astype(str)\n",
    "dados['Gender_class'] = dados['Gender_class'].replace('-1', np.nan)"
   ]
  },
  {
   "cell_type": "code",
   "execution_count": 54,
   "id": "e66f2c4e",
   "metadata": {},
   "outputs": [],
   "source": [
    "dados['Age_class'] = dados['Age_class'].fillna(-1)\n",
    "dados['Age_class'] = dados['Age_class'].astype(int)\n",
    "dados['Age_class'] = dados['Age_class'].astype(str)\n",
    "dados['Age_class'] = dados['Age_class'].replace('-1', np.nan)"
   ]
  },
  {
   "cell_type": "code",
   "execution_count": 24,
   "id": "4b8da95e",
   "metadata": {},
   "outputs": [
    {
     "data": {
      "text/html": [
       "<div>\n",
       "<style scoped>\n",
       "    .dataframe tbody tr th:only-of-type {\n",
       "        vertical-align: middle;\n",
       "    }\n",
       "\n",
       "    .dataframe tbody tr th {\n",
       "        vertical-align: top;\n",
       "    }\n",
       "\n",
       "    .dataframe thead th {\n",
       "        text-align: right;\n",
       "    }\n",
       "</style>\n",
       "<table border=\"1\" class=\"dataframe\">\n",
       "  <thead>\n",
       "    <tr style=\"text-align: right;\">\n",
       "      <th></th>\n",
       "      <th>Year</th>\n",
       "      <th>Month</th>\n",
       "      <th>Route</th>\n",
       "      <th>Operator</th>\n",
       "      <th>Group_Name</th>\n",
       "      <th>Bus_Garage</th>\n",
       "      <th>Borough</th>\n",
       "      <th>Injury_Result_Description</th>\n",
       "      <th>Incident_Event_Type</th>\n",
       "      <th>Victim_Category</th>\n",
       "      <th>Gender</th>\n",
       "      <th>Age</th>\n",
       "      <th>Gender_class</th>\n",
       "      <th>Age_class</th>\n",
       "    </tr>\n",
       "  </thead>\n",
       "  <tbody>\n",
       "    <tr>\n",
       "      <th>0</th>\n",
       "      <td>2015</td>\n",
       "      <td>01</td>\n",
       "      <td>1</td>\n",
       "      <td>London General</td>\n",
       "      <td>Go-Ahead</td>\n",
       "      <td>Garage Not Available</td>\n",
       "      <td>Southwark</td>\n",
       "      <td>Injuries treated on scene</td>\n",
       "      <td>Onboard Injuries</td>\n",
       "      <td>Passenger</td>\n",
       "      <td>Male</td>\n",
       "      <td>Child</td>\n",
       "      <td>1</td>\n",
       "      <td>0</td>\n",
       "    </tr>\n",
       "    <tr>\n",
       "      <th>1</th>\n",
       "      <td>2015</td>\n",
       "      <td>01</td>\n",
       "      <td>4</td>\n",
       "      <td>Metroline</td>\n",
       "      <td>Metroline</td>\n",
       "      <td>Garage Not Available</td>\n",
       "      <td>Islington</td>\n",
       "      <td>Injuries treated on scene</td>\n",
       "      <td>Onboard Injuries</td>\n",
       "      <td>Passenger</td>\n",
       "      <td>Male</td>\n",
       "      <td>Unknown</td>\n",
       "      <td>1</td>\n",
       "      <td>NaN</td>\n",
       "    </tr>\n",
       "    <tr>\n",
       "      <th>2</th>\n",
       "      <td>2015</td>\n",
       "      <td>01</td>\n",
       "      <td>5</td>\n",
       "      <td>East London</td>\n",
       "      <td>Stagecoach</td>\n",
       "      <td>Garage Not Available</td>\n",
       "      <td>Havering</td>\n",
       "      <td>Taken to Hospital – Reported Serious Injury or...</td>\n",
       "      <td>Onboard Injuries</td>\n",
       "      <td>Passenger</td>\n",
       "      <td>Male</td>\n",
       "      <td>Elderly</td>\n",
       "      <td>1</td>\n",
       "      <td>3</td>\n",
       "    </tr>\n",
       "    <tr>\n",
       "      <th>3</th>\n",
       "      <td>2015</td>\n",
       "      <td>01</td>\n",
       "      <td>5</td>\n",
       "      <td>East London</td>\n",
       "      <td>Stagecoach</td>\n",
       "      <td>Garage Not Available</td>\n",
       "      <td>None London Borough</td>\n",
       "      <td>Taken to Hospital – Reported Serious Injury or...</td>\n",
       "      <td>Onboard Injuries</td>\n",
       "      <td>Passenger</td>\n",
       "      <td>Male</td>\n",
       "      <td>Elderly</td>\n",
       "      <td>1</td>\n",
       "      <td>3</td>\n",
       "    </tr>\n",
       "    <tr>\n",
       "      <th>4</th>\n",
       "      <td>2015</td>\n",
       "      <td>01</td>\n",
       "      <td>6</td>\n",
       "      <td>Metroline</td>\n",
       "      <td>Metroline</td>\n",
       "      <td>Garage Not Available</td>\n",
       "      <td>Westminster</td>\n",
       "      <td>Reported Minor Injury - Treated at Hospital</td>\n",
       "      <td>Onboard Injuries</td>\n",
       "      <td>Pedestrian</td>\n",
       "      <td>Female</td>\n",
       "      <td>Elderly</td>\n",
       "      <td>0</td>\n",
       "      <td>3</td>\n",
       "    </tr>\n",
       "  </tbody>\n",
       "</table>\n",
       "</div>"
      ],
      "text/plain": [
       "   Year Month Route        Operator  Group_Name            Bus_Garage  \\\n",
       "0  2015    01     1  London General    Go-Ahead  Garage Not Available   \n",
       "1  2015    01     4       Metroline   Metroline  Garage Not Available   \n",
       "2  2015    01     5     East London  Stagecoach  Garage Not Available   \n",
       "3  2015    01     5     East London  Stagecoach  Garage Not Available   \n",
       "4  2015    01     6       Metroline   Metroline  Garage Not Available   \n",
       "\n",
       "               Borough                          Injury_Result_Description  \\\n",
       "0            Southwark                          Injuries treated on scene   \n",
       "1            Islington                          Injuries treated on scene   \n",
       "2             Havering  Taken to Hospital – Reported Serious Injury or...   \n",
       "3  None London Borough  Taken to Hospital – Reported Serious Injury or...   \n",
       "4          Westminster        Reported Minor Injury - Treated at Hospital   \n",
       "\n",
       "  Incident_Event_Type Victim_Category  Gender      Age Gender_class Age_class  \n",
       "0    Onboard Injuries       Passenger    Male    Child            1         0  \n",
       "1    Onboard Injuries       Passenger    Male  Unknown            1       NaN  \n",
       "2    Onboard Injuries       Passenger    Male  Elderly            1         3  \n",
       "3    Onboard Injuries       Passenger    Male  Elderly            1         3  \n",
       "4    Onboard Injuries      Pedestrian  Female  Elderly            0         3  "
      ]
     },
     "execution_count": 24,
     "metadata": {},
     "output_type": "execute_result"
    }
   ],
   "source": [
    "dados.head()"
   ]
  },
  {
   "cell_type": "markdown",
   "id": "275394dd",
   "metadata": {},
   "source": [
    "### Salvando os dados faltantes em uma tabela"
   ]
  },
  {
   "cell_type": "code",
   "execution_count": 55,
   "id": "d6f99bd6",
   "metadata": {},
   "outputs": [
    {
     "data": {
      "text/html": [
       "<div>\n",
       "<style scoped>\n",
       "    .dataframe tbody tr th:only-of-type {\n",
       "        vertical-align: middle;\n",
       "    }\n",
       "\n",
       "    .dataframe tbody tr th {\n",
       "        vertical-align: top;\n",
       "    }\n",
       "\n",
       "    .dataframe thead th {\n",
       "        text-align: right;\n",
       "    }\n",
       "</style>\n",
       "<table border=\"1\" class=\"dataframe\">\n",
       "  <thead>\n",
       "    <tr style=\"text-align: right;\">\n",
       "      <th></th>\n",
       "      <th>Gender_class</th>\n",
       "      <th>Age_class</th>\n",
       "    </tr>\n",
       "  </thead>\n",
       "  <tbody>\n",
       "    <tr>\n",
       "      <th>0</th>\n",
       "      <td>1</td>\n",
       "      <td>0</td>\n",
       "    </tr>\n",
       "    <tr>\n",
       "      <th>1</th>\n",
       "      <td>1</td>\n",
       "      <td>NaN</td>\n",
       "    </tr>\n",
       "    <tr>\n",
       "      <th>2</th>\n",
       "      <td>1</td>\n",
       "      <td>3</td>\n",
       "    </tr>\n",
       "    <tr>\n",
       "      <th>3</th>\n",
       "      <td>1</td>\n",
       "      <td>3</td>\n",
       "    </tr>\n",
       "    <tr>\n",
       "      <th>4</th>\n",
       "      <td>0</td>\n",
       "      <td>3</td>\n",
       "    </tr>\n",
       "    <tr>\n",
       "      <th>...</th>\n",
       "      <td>...</td>\n",
       "      <td>...</td>\n",
       "    </tr>\n",
       "    <tr>\n",
       "      <th>23153</th>\n",
       "      <td>1</td>\n",
       "      <td>2</td>\n",
       "    </tr>\n",
       "    <tr>\n",
       "      <th>23154</th>\n",
       "      <td>1</td>\n",
       "      <td>2</td>\n",
       "    </tr>\n",
       "    <tr>\n",
       "      <th>23155</th>\n",
       "      <td>1</td>\n",
       "      <td>2</td>\n",
       "    </tr>\n",
       "    <tr>\n",
       "      <th>23156</th>\n",
       "      <td>1</td>\n",
       "      <td>2</td>\n",
       "    </tr>\n",
       "    <tr>\n",
       "      <th>23157</th>\n",
       "      <td>NaN</td>\n",
       "      <td>NaN</td>\n",
       "    </tr>\n",
       "  </tbody>\n",
       "</table>\n",
       "<p>23158 rows × 2 columns</p>\n",
       "</div>"
      ],
      "text/plain": [
       "      Gender_class Age_class\n",
       "0                1         0\n",
       "1                1       NaN\n",
       "2                1         3\n",
       "3                1         3\n",
       "4                0         3\n",
       "...            ...       ...\n",
       "23153            1         2\n",
       "23154            1         2\n",
       "23155            1         2\n",
       "23156            1         2\n",
       "23157          NaN       NaN\n",
       "\n",
       "[23158 rows x 2 columns]"
      ]
     },
     "execution_count": 55,
     "metadata": {},
     "output_type": "execute_result"
    }
   ],
   "source": [
    "missing_data = dados[['Gender_class','Age_class']]\n",
    "missing_data"
   ]
  },
  {
   "cell_type": "markdown",
   "id": "4c54e2f6",
   "metadata": {},
   "source": [
    "#### Agora salvando como tipo booleano"
   ]
  },
  {
   "cell_type": "code",
   "execution_count": 56,
   "id": "df739ace",
   "metadata": {},
   "outputs": [],
   "source": [
    "missing_mask = missing_data.isna()"
   ]
  },
  {
   "cell_type": "code",
   "execution_count": 57,
   "id": "a60317c7",
   "metadata": {},
   "outputs": [
    {
     "data": {
      "text/html": [
       "<div>\n",
       "<style scoped>\n",
       "    .dataframe tbody tr th:only-of-type {\n",
       "        vertical-align: middle;\n",
       "    }\n",
       "\n",
       "    .dataframe tbody tr th {\n",
       "        vertical-align: top;\n",
       "    }\n",
       "\n",
       "    .dataframe thead th {\n",
       "        text-align: right;\n",
       "    }\n",
       "</style>\n",
       "<table border=\"1\" class=\"dataframe\">\n",
       "  <thead>\n",
       "    <tr style=\"text-align: right;\">\n",
       "      <th></th>\n",
       "      <th>Gender_class</th>\n",
       "      <th>Age_class</th>\n",
       "    </tr>\n",
       "  </thead>\n",
       "  <tbody>\n",
       "    <tr>\n",
       "      <th>0</th>\n",
       "      <td>False</td>\n",
       "      <td>False</td>\n",
       "    </tr>\n",
       "    <tr>\n",
       "      <th>1</th>\n",
       "      <td>False</td>\n",
       "      <td>True</td>\n",
       "    </tr>\n",
       "    <tr>\n",
       "      <th>2</th>\n",
       "      <td>False</td>\n",
       "      <td>False</td>\n",
       "    </tr>\n",
       "    <tr>\n",
       "      <th>3</th>\n",
       "      <td>False</td>\n",
       "      <td>False</td>\n",
       "    </tr>\n",
       "    <tr>\n",
       "      <th>4</th>\n",
       "      <td>False</td>\n",
       "      <td>False</td>\n",
       "    </tr>\n",
       "    <tr>\n",
       "      <th>...</th>\n",
       "      <td>...</td>\n",
       "      <td>...</td>\n",
       "    </tr>\n",
       "    <tr>\n",
       "      <th>23153</th>\n",
       "      <td>False</td>\n",
       "      <td>False</td>\n",
       "    </tr>\n",
       "    <tr>\n",
       "      <th>23154</th>\n",
       "      <td>False</td>\n",
       "      <td>False</td>\n",
       "    </tr>\n",
       "    <tr>\n",
       "      <th>23155</th>\n",
       "      <td>False</td>\n",
       "      <td>False</td>\n",
       "    </tr>\n",
       "    <tr>\n",
       "      <th>23156</th>\n",
       "      <td>False</td>\n",
       "      <td>False</td>\n",
       "    </tr>\n",
       "    <tr>\n",
       "      <th>23157</th>\n",
       "      <td>True</td>\n",
       "      <td>True</td>\n",
       "    </tr>\n",
       "  </tbody>\n",
       "</table>\n",
       "<p>23158 rows × 2 columns</p>\n",
       "</div>"
      ],
      "text/plain": [
       "       Gender_class  Age_class\n",
       "0             False      False\n",
       "1             False       True\n",
       "2             False      False\n",
       "3             False      False\n",
       "4             False      False\n",
       "...             ...        ...\n",
       "23153         False      False\n",
       "23154         False      False\n",
       "23155         False      False\n",
       "23156         False      False\n",
       "23157          True       True\n",
       "\n",
       "[23158 rows x 2 columns]"
      ]
     },
     "execution_count": 57,
     "metadata": {},
     "output_type": "execute_result"
    }
   ],
   "source": [
    "missing_mask"
   ]
  },
  {
   "cell_type": "markdown",
   "id": "9fe4834e",
   "metadata": {},
   "source": [
    "### Realizando a imputação"
   ]
  },
  {
   "cell_type": "code",
   "execution_count": 58,
   "id": "3c773e2a",
   "metadata": {},
   "outputs": [],
   "source": [
    "# Criando a instância da classe InterativeImputer\n",
    "imputer = IterativeImputer(max_iter=10, random_state=0)"
   ]
  },
  {
   "cell_type": "code",
   "execution_count": 59,
   "id": "2e84022f",
   "metadata": {},
   "outputs": [],
   "source": [
    "# Realizando o fit Transformer - irá retornar os dados transformados\n",
    "imputed_values = imputer.fit_transform(missing_data)"
   ]
  },
  {
   "cell_type": "code",
   "execution_count": 60,
   "id": "7c35c055",
   "metadata": {},
   "outputs": [],
   "source": [
    "imputed_values = pd.DataFrame(imputed_values)"
   ]
  },
  {
   "cell_type": "code",
   "execution_count": 62,
   "id": "a53a4f08",
   "metadata": {},
   "outputs": [
    {
     "data": {
      "text/plain": [
       "array([1.        , 0.        , 0.39734207, 0.38961641, 0.52133786,\n",
       "       0.32375568, 0.45547713])"
      ]
     },
     "execution_count": 62,
     "metadata": {},
     "output_type": "execute_result"
    }
   ],
   "source": [
    "# agora os dados estão sendo representados numericamente\n",
    "imputed_values[0].unique()"
   ]
  },
  {
   "cell_type": "code",
   "execution_count": 63,
   "id": "39576bad",
   "metadata": {},
   "outputs": [],
   "source": [
    "# Valores menores que 0.5 serão iguais a zero\n",
    "imputed_values[0].loc[imputed_values[0] < 0.5] = 0"
   ]
  },
  {
   "cell_type": "code",
   "execution_count": 64,
   "id": "07f5467b",
   "metadata": {},
   "outputs": [],
   "source": [
    "# Valores maiores que 0.5 serão iguais a um\n",
    "imputed_values[0].loc[imputed_values[0] > 0.5] = 1"
   ]
  },
  {
   "cell_type": "code",
   "execution_count": 65,
   "id": "468dd115",
   "metadata": {},
   "outputs": [
    {
     "data": {
      "text/plain": [
       "0        1\n",
       "1        1\n",
       "2        1\n",
       "3        1\n",
       "4        0\n",
       "        ..\n",
       "23153    1\n",
       "23154    1\n",
       "23155    1\n",
       "23156    1\n",
       "23157    0\n",
       "Name: 0, Length: 23158, dtype: Int64"
      ]
     },
     "execution_count": 65,
     "metadata": {},
     "output_type": "execute_result"
    }
   ],
   "source": [
    "# alterando para tipo inteiro\n",
    "imputed_values[0].astype('Int64')"
   ]
  },
  {
   "cell_type": "code",
   "execution_count": 66,
   "id": "f8b26384",
   "metadata": {},
   "outputs": [],
   "source": [
    "# incluindo nova coluna na tabela com os dados numéricos\n",
    "dados['Gender_class'] = imputed_values[0].astype('Int64')"
   ]
  },
  {
   "cell_type": "code",
   "execution_count": 67,
   "id": "fa9a99e8",
   "metadata": {},
   "outputs": [
    {
     "data": {
      "text/plain": [
       "0    1\n",
       "1    1\n",
       "2    1\n",
       "3    1\n",
       "4    0\n",
       "Name: Gender_class, dtype: Int64"
      ]
     },
     "execution_count": 67,
     "metadata": {},
     "output_type": "execute_result"
    }
   ],
   "source": [
    "# agora temos os valores numéricos na nova coluna\n",
    "dados['Gender_class'].head()"
   ]
  },
  {
   "cell_type": "code",
   "execution_count": 68,
   "id": "edc07952",
   "metadata": {},
   "outputs": [
    {
     "data": {
      "text/plain": [
       "array([0.        , 1.78425502, 3.        , 2.        , 1.88270364,\n",
       "       1.94761239, 1.        ])"
      ]
     },
     "execution_count": 68,
     "metadata": {},
     "output_type": "execute_result"
    }
   ],
   "source": [
    "# Agora verificar a coluna \"Age\"\n",
    "imputed_values[1].unique()"
   ]
  },
  {
   "cell_type": "code",
   "execution_count": 69,
   "id": "d177db45",
   "metadata": {},
   "outputs": [],
   "source": [
    "# valores maiores que 1.5 e menores que 2 serão classificadas como 2 (adulto)\n",
    "imputed_values[1].loc[(imputed_values[1] > 1.5) & (imputed_values[1] < 2)] = 2"
   ]
  },
  {
   "cell_type": "code",
   "execution_count": 70,
   "id": "ab580cde",
   "metadata": {},
   "outputs": [
    {
     "data": {
      "text/plain": [
       "0        0\n",
       "1        2\n",
       "2        3\n",
       "3        3\n",
       "4        3\n",
       "        ..\n",
       "23153    2\n",
       "23154    2\n",
       "23155    2\n",
       "23156    2\n",
       "23157    2\n",
       "Name: 1, Length: 23158, dtype: Int64"
      ]
     },
     "execution_count": 70,
     "metadata": {},
     "output_type": "execute_result"
    }
   ],
   "source": [
    "imputed_values[1].astype('Int64')"
   ]
  },
  {
   "cell_type": "code",
   "execution_count": 71,
   "id": "0540ff85",
   "metadata": {},
   "outputs": [],
   "source": [
    "dados['Age_class'] = imputed_values[1].astype('Int64')"
   ]
  },
  {
   "cell_type": "code",
   "execution_count": 72,
   "id": "4d81f987",
   "metadata": {},
   "outputs": [
    {
     "data": {
      "text/html": [
       "<div>\n",
       "<style scoped>\n",
       "    .dataframe tbody tr th:only-of-type {\n",
       "        vertical-align: middle;\n",
       "    }\n",
       "\n",
       "    .dataframe tbody tr th {\n",
       "        vertical-align: top;\n",
       "    }\n",
       "\n",
       "    .dataframe thead th {\n",
       "        text-align: right;\n",
       "    }\n",
       "</style>\n",
       "<table border=\"1\" class=\"dataframe\">\n",
       "  <thead>\n",
       "    <tr style=\"text-align: right;\">\n",
       "      <th></th>\n",
       "      <th>Year</th>\n",
       "      <th>Month</th>\n",
       "      <th>Route</th>\n",
       "      <th>Operator</th>\n",
       "      <th>Group_Name</th>\n",
       "      <th>Bus_Garage</th>\n",
       "      <th>Borough</th>\n",
       "      <th>Injury_Result_Description</th>\n",
       "      <th>Incident_Event_Type</th>\n",
       "      <th>Victim_Category</th>\n",
       "      <th>Gender</th>\n",
       "      <th>Age</th>\n",
       "      <th>Gender_class</th>\n",
       "      <th>Age_class</th>\n",
       "    </tr>\n",
       "  </thead>\n",
       "  <tbody>\n",
       "    <tr>\n",
       "      <th>0</th>\n",
       "      <td>2015</td>\n",
       "      <td>01</td>\n",
       "      <td>1</td>\n",
       "      <td>London General</td>\n",
       "      <td>Go-Ahead</td>\n",
       "      <td>Garage Not Available</td>\n",
       "      <td>Southwark</td>\n",
       "      <td>Injuries treated on scene</td>\n",
       "      <td>Onboard Injuries</td>\n",
       "      <td>Passenger</td>\n",
       "      <td>Male</td>\n",
       "      <td>Child</td>\n",
       "      <td>1</td>\n",
       "      <td>0</td>\n",
       "    </tr>\n",
       "    <tr>\n",
       "      <th>1</th>\n",
       "      <td>2015</td>\n",
       "      <td>01</td>\n",
       "      <td>4</td>\n",
       "      <td>Metroline</td>\n",
       "      <td>Metroline</td>\n",
       "      <td>Garage Not Available</td>\n",
       "      <td>Islington</td>\n",
       "      <td>Injuries treated on scene</td>\n",
       "      <td>Onboard Injuries</td>\n",
       "      <td>Passenger</td>\n",
       "      <td>Male</td>\n",
       "      <td>Unknown</td>\n",
       "      <td>1</td>\n",
       "      <td>2</td>\n",
       "    </tr>\n",
       "    <tr>\n",
       "      <th>2</th>\n",
       "      <td>2015</td>\n",
       "      <td>01</td>\n",
       "      <td>5</td>\n",
       "      <td>East London</td>\n",
       "      <td>Stagecoach</td>\n",
       "      <td>Garage Not Available</td>\n",
       "      <td>Havering</td>\n",
       "      <td>Taken to Hospital – Reported Serious Injury or...</td>\n",
       "      <td>Onboard Injuries</td>\n",
       "      <td>Passenger</td>\n",
       "      <td>Male</td>\n",
       "      <td>Elderly</td>\n",
       "      <td>1</td>\n",
       "      <td>3</td>\n",
       "    </tr>\n",
       "    <tr>\n",
       "      <th>3</th>\n",
       "      <td>2015</td>\n",
       "      <td>01</td>\n",
       "      <td>5</td>\n",
       "      <td>East London</td>\n",
       "      <td>Stagecoach</td>\n",
       "      <td>Garage Not Available</td>\n",
       "      <td>None London Borough</td>\n",
       "      <td>Taken to Hospital – Reported Serious Injury or...</td>\n",
       "      <td>Onboard Injuries</td>\n",
       "      <td>Passenger</td>\n",
       "      <td>Male</td>\n",
       "      <td>Elderly</td>\n",
       "      <td>1</td>\n",
       "      <td>3</td>\n",
       "    </tr>\n",
       "    <tr>\n",
       "      <th>4</th>\n",
       "      <td>2015</td>\n",
       "      <td>01</td>\n",
       "      <td>6</td>\n",
       "      <td>Metroline</td>\n",
       "      <td>Metroline</td>\n",
       "      <td>Garage Not Available</td>\n",
       "      <td>Westminster</td>\n",
       "      <td>Reported Minor Injury - Treated at Hospital</td>\n",
       "      <td>Onboard Injuries</td>\n",
       "      <td>Pedestrian</td>\n",
       "      <td>Female</td>\n",
       "      <td>Elderly</td>\n",
       "      <td>0</td>\n",
       "      <td>3</td>\n",
       "    </tr>\n",
       "  </tbody>\n",
       "</table>\n",
       "</div>"
      ],
      "text/plain": [
       "   Year Month Route        Operator  Group_Name            Bus_Garage  \\\n",
       "0  2015    01     1  London General    Go-Ahead  Garage Not Available   \n",
       "1  2015    01     4       Metroline   Metroline  Garage Not Available   \n",
       "2  2015    01     5     East London  Stagecoach  Garage Not Available   \n",
       "3  2015    01     5     East London  Stagecoach  Garage Not Available   \n",
       "4  2015    01     6       Metroline   Metroline  Garage Not Available   \n",
       "\n",
       "               Borough                          Injury_Result_Description  \\\n",
       "0            Southwark                          Injuries treated on scene   \n",
       "1            Islington                          Injuries treated on scene   \n",
       "2             Havering  Taken to Hospital – Reported Serious Injury or...   \n",
       "3  None London Borough  Taken to Hospital – Reported Serious Injury or...   \n",
       "4          Westminster        Reported Minor Injury - Treated at Hospital   \n",
       "\n",
       "  Incident_Event_Type Victim_Category  Gender      Age  Gender_class  \\\n",
       "0    Onboard Injuries       Passenger    Male    Child             1   \n",
       "1    Onboard Injuries       Passenger    Male  Unknown             1   \n",
       "2    Onboard Injuries       Passenger    Male  Elderly             1   \n",
       "3    Onboard Injuries       Passenger    Male  Elderly             1   \n",
       "4    Onboard Injuries      Pedestrian  Female  Elderly             0   \n",
       "\n",
       "   Age_class  \n",
       "0          0  \n",
       "1          2  \n",
       "2          3  \n",
       "3          3  \n",
       "4          3  "
      ]
     },
     "execution_count": 72,
     "metadata": {},
     "output_type": "execute_result"
    }
   ],
   "source": [
    "# novas coluna \"Gender_class\" e \"Age_class\"\n",
    "dados.head()"
   ]
  },
  {
   "cell_type": "code",
   "execution_count": 73,
   "id": "61f6903d",
   "metadata": {},
   "outputs": [
    {
     "data": {
      "text/plain": [
       "0    14937\n",
       "1     8221\n",
       "Name: Gender_class, dtype: Int64"
      ]
     },
     "execution_count": 73,
     "metadata": {},
     "output_type": "execute_result"
    }
   ],
   "source": [
    "# 0 Female 1 male\n",
    "dados['Gender_class'].value_counts()"
   ]
  },
  {
   "cell_type": "code",
   "execution_count": 74,
   "id": "2d422533",
   "metadata": {},
   "outputs": [
    {
     "data": {
      "text/plain": [
       "2    17889\n",
       "3     2769\n",
       "0     2181\n",
       "1      319\n",
       "Name: Age_class, dtype: Int64"
      ]
     },
     "execution_count": 74,
     "metadata": {},
     "output_type": "execute_result"
    }
   ],
   "source": [
    "# 0 = child, 1 = youth, adult = 2, eldery 3\n",
    "dados['Age_class'].value_counts()"
   ]
  },
  {
   "cell_type": "markdown",
   "id": "5635b19c",
   "metadata": {},
   "source": [
    "### Agora vou alterar para categórica novamente"
   ]
  },
  {
   "cell_type": "code",
   "execution_count": 75,
   "id": "6277cda6",
   "metadata": {},
   "outputs": [],
   "source": [
    "dados['Gender_class'] = np.where(dados['Gender_class'] == 0, 'Female', 'Male')"
   ]
  },
  {
   "cell_type": "code",
   "execution_count": 76,
   "id": "096a9dfd",
   "metadata": {},
   "outputs": [
    {
     "data": {
      "text/plain": [
       "Female    14937\n",
       "Male       8221\n",
       "Name: Gender_class, dtype: int64"
      ]
     },
     "execution_count": 76,
     "metadata": {},
     "output_type": "execute_result"
    }
   ],
   "source": [
    "dados['Gender_class'].value_counts()"
   ]
  },
  {
   "cell_type": "code",
   "execution_count": 77,
   "id": "ab798433",
   "metadata": {},
   "outputs": [],
   "source": [
    "dados['Age_class'] = np.where(dados['Age_class'] == 0, 'Child', np.where(dados['Age_class']== 1, 'Youth', np.where(dados['Age_class'] == 2, 'Adult',np.where(dados['Age_class'] == 3, 'Elderly', 3))))"
   ]
  },
  {
   "cell_type": "code",
   "execution_count": 78,
   "id": "5b138ebb",
   "metadata": {},
   "outputs": [
    {
     "data": {
      "text/plain": [
       "Adult      17889\n",
       "Elderly     2769\n",
       "Child       2181\n",
       "Youth        319\n",
       "Name: Age_class, dtype: int64"
      ]
     },
     "execution_count": 78,
     "metadata": {},
     "output_type": "execute_result"
    }
   ],
   "source": [
    "dados['Age_class'].value_counts()"
   ]
  },
  {
   "cell_type": "markdown",
   "id": "c4dc65be",
   "metadata": {},
   "source": [
    "# Questões de Negócio"
   ]
  },
  {
   "cell_type": "markdown",
   "id": "3947373f",
   "metadata": {},
   "source": [
    "### 1- Qual a quantidade de incidentes por gênero?"
   ]
  },
  {
   "cell_type": "code",
   "execution_count": 65,
   "id": "05dd9cfd",
   "metadata": {},
   "outputs": [
    {
     "data": {
      "text/plain": [
       "Female    14937\n",
       "Male       8221\n",
       "Name: Gender_class, dtype: int64"
      ]
     },
     "execution_count": 65,
     "metadata": {},
     "output_type": "execute_result"
    }
   ],
   "source": [
    "# fazer um grafico de quantidade de incidentes por genero\n",
    "dados['Gender_class'].value_counts()"
   ]
  },
  {
   "cell_type": "code",
   "execution_count": 335,
   "id": "8e5f8afd",
   "metadata": {},
   "outputs": [
    {
     "data": {
      "image/png": "[encoded data removed]",
      "text/plain": [
       "<Figure size 400x500 with 1 Axes>"
      ]
     },
     "metadata": {},
     "output_type": "display_data"
    }
   ],
   "source": [
    "sns.catplot(data = dados, x= 'Gender_class', hue = 'Gender_class', aspect = .8, order = ['Female','Male'], dodge = False, palette = {'Male': \"#cce1af\", 'Female': \"#CCCCFF\"}, kind = 'count' ).set_xticklabels(['Female','Male'], ha = 'center')\n",
    "sns.set(style=\"whitegrid\")\n",
    "sns.despine()\n",
    "plt.xlabel(' ')\n",
    "plt.ylabel(' ')\n",
    "title = plt.title(\"Quantidade de Incidentes por Gênero\")\n",
    "title.set_backgroundcolor('gainsboro')\n",
    "title.set_color('grey')\n",
    "plt.show()"
   ]
  },
  {
   "cell_type": "markdown",
   "id": "fb80cc28",
   "metadata": {},
   "source": [
    "### 2- Qual faixa etária esteve mais envolvida nos incidentes?"
   ]
  },
  {
   "cell_type": "code",
   "execution_count": 225,
   "id": "034de539",
   "metadata": {},
   "outputs": [],
   "source": [
    "pysqldf = lambda q: sqldf(q, globals())"
   ]
  },
  {
   "cell_type": "code",
   "execution_count": 68,
   "id": "2a1c33b9",
   "metadata": {},
   "outputs": [],
   "source": [
    "query = 'SELECT DISTINCT(Age_class), count(Age_class) AS age FROM dados GROUP BY Age_class ORDER BY age DESC'"
   ]
  },
  {
   "cell_type": "code",
   "execution_count": 69,
   "id": "3f942a62",
   "metadata": {},
   "outputs": [
    {
     "data": {
      "text/html": [
       "<div>\n",
       "<style scoped>\n",
       "    .dataframe tbody tr th:only-of-type {\n",
       "        vertical-align: middle;\n",
       "    }\n",
       "\n",
       "    .dataframe tbody tr th {\n",
       "        vertical-align: top;\n",
       "    }\n",
       "\n",
       "    .dataframe thead th {\n",
       "        text-align: right;\n",
       "    }\n",
       "</style>\n",
       "<table border=\"1\" class=\"dataframe\">\n",
       "  <thead>\n",
       "    <tr style=\"text-align: right;\">\n",
       "      <th></th>\n",
       "      <th>Age_class</th>\n",
       "      <th>age</th>\n",
       "    </tr>\n",
       "  </thead>\n",
       "  <tbody>\n",
       "    <tr>\n",
       "      <th>0</th>\n",
       "      <td>Adult</td>\n",
       "      <td>17889</td>\n",
       "    </tr>\n",
       "    <tr>\n",
       "      <th>1</th>\n",
       "      <td>Elderly</td>\n",
       "      <td>2769</td>\n",
       "    </tr>\n",
       "    <tr>\n",
       "      <th>2</th>\n",
       "      <td>Child</td>\n",
       "      <td>2181</td>\n",
       "    </tr>\n",
       "    <tr>\n",
       "      <th>3</th>\n",
       "      <td>Youth</td>\n",
       "      <td>319</td>\n",
       "    </tr>\n",
       "  </tbody>\n",
       "</table>\n",
       "</div>"
      ],
      "text/plain": [
       "  Age_class    age\n",
       "0     Adult  17889\n",
       "1   Elderly   2769\n",
       "2     Child   2181\n",
       "3     Youth    319"
      ]
     },
     "execution_count": 69,
     "metadata": {},
     "output_type": "execute_result"
    }
   ],
   "source": [
    "resultado2 = pysqldf(query)\n",
    "resultado2"
   ]
  },
  {
   "cell_type": "code",
   "execution_count": 70,
   "id": "283431a1",
   "metadata": {},
   "outputs": [
    {
     "data": {
      "text/html": [
       "<div>\n",
       "<style scoped>\n",
       "    .dataframe tbody tr th:only-of-type {\n",
       "        vertical-align: middle;\n",
       "    }\n",
       "\n",
       "    .dataframe tbody tr th {\n",
       "        vertical-align: top;\n",
       "    }\n",
       "\n",
       "    .dataframe thead th {\n",
       "        text-align: right;\n",
       "    }\n",
       "</style>\n",
       "<table border=\"1\" class=\"dataframe\">\n",
       "  <thead>\n",
       "    <tr style=\"text-align: right;\">\n",
       "      <th></th>\n",
       "      <th>Age_class</th>\n",
       "      <th>age</th>\n",
       "    </tr>\n",
       "  </thead>\n",
       "  <tbody>\n",
       "    <tr>\n",
       "      <th>0</th>\n",
       "      <td>Adult</td>\n",
       "      <td>17889</td>\n",
       "    </tr>\n",
       "  </tbody>\n",
       "</table>\n",
       "</div>"
      ],
      "text/plain": [
       "  Age_class    age\n",
       "0     Adult  17889"
      ]
     },
     "execution_count": 70,
     "metadata": {},
     "output_type": "execute_result"
    }
   ],
   "source": [
    "# a faixa etária com mais incidentes é a \"Adult\"\n",
    "resultado2.head(1)"
   ]
  },
  {
   "cell_type": "code",
   "execution_count": 331,
   "id": "6b0293ac",
   "metadata": {},
   "outputs": [
    {
     "data": {
      "image/png": "[encoded data removed]",
      "text/plain": [
       "<Figure size 800x500 with 1 Axes>"
      ]
     },
     "metadata": {},
     "output_type": "display_data"
    }
   ],
   "source": [
    "plt.figure(figsize = [8,5])\n",
    "sns.set_palette(\"Pastel2\")\n",
    "sns.despine()\n",
    "ax = sns.countplot(data=dados, x=\"Age_class\", order = dados['Age_class'].value_counts().index )\n",
    "\n",
    "for p in ax.patches:\n",
    "    if not(-0.5 <= p.get_x() < 0.0):\n",
    "        p.set_facecolor('lightgrey')\n",
    "        title = ax.set_title(\"Faixa Etária Mais envolvida em acidentes\")\n",
    "        title.set_backgroundcolor('gainsboro')\n",
    "        title.set_color('grey')\n",
    "        ax.set_xlabel(\" \")\n",
    "        ax.set_ylabel(\" \")\n",
    "        ax.set_xticklabels([\"Adulto\", \"Idosa\", \"Criança\",'Adolescente'])\n",
    "     \n",
    "        largura = p.get_width()\n",
    "        nova_largura = largura * 0.5\n",
    "        x = p.get_x()\n",
    "        p.set_x(x + (largura - nova_largura) / 2)\n",
    "        p.set_width(nova_largura)\n",
    "plt.show()"
   ]
  },
  {
   "cell_type": "markdown",
   "id": "79a6f02a",
   "metadata": {},
   "source": [
    "## Combinando o gênero e idade"
   ]
  },
  {
   "cell_type": "code",
   "execution_count": 198,
   "id": "f2a6d897",
   "metadata": {},
   "outputs": [],
   "source": [
    "Gender_Age_incidentes = dados[['Gender_class','Age_class']].groupby(['Gender_class','Age_class']).size()"
   ]
  },
  {
   "cell_type": "code",
   "execution_count": 199,
   "id": "2d9ef9e6",
   "metadata": {},
   "outputs": [],
   "source": [
    "Gender_Age_incidentes = Gender_Age_incidentes.unstack()"
   ]
  },
  {
   "cell_type": "code",
   "execution_count": 332,
   "id": "cbd26afb",
   "metadata": {},
   "outputs": [
    {
     "data": {
      "image/png": "[encoded data removed]",
      "text/plain": [
       "<Figure size 800x400 with 1 Axes>"
      ]
     },
     "metadata": {},
     "output_type": "display_data"
    }
   ],
   "source": [
    "Gender_Age_incidentes.plot.bar(rot=0, stacked = True)\n",
    "plt.title('Incidentes por gênero e faixa etária')\n",
    "plt.legend()\n",
    "plt.xlabel(' ')\n",
    "plt.show()"
   ]
  },
  {
   "cell_type": "code",
   "execution_count": null,
   "id": "4969779a",
   "metadata": {},
   "outputs": [],
   "source": [
    "# o número de acidentes na faixa etária \"idosa\" é maior no público feminino"
   ]
  },
  {
   "cell_type": "markdown",
   "id": "8332d726",
   "metadata": {},
   "source": [
    "### 3- Qual o percentual de incidentes por tipo de evento (Incident EventType)?"
   ]
  },
  {
   "cell_type": "code",
   "execution_count": 211,
   "id": "1dc9b243",
   "metadata": {},
   "outputs": [],
   "source": [
    "frequency_relative = dados['Incident_Event_Type'].value_counts(normalize=True)\n",
    "indexes = [0,1,2,3,4,5,6,7,8,9]"
   ]
  },
  {
   "cell_type": "code",
   "execution_count": 212,
   "id": "fe699c62",
   "metadata": {},
   "outputs": [
    {
     "data": {
      "text/plain": [
       "Slip Trip Fall             0.301451\n",
       "Onboard Injuries           0.283401\n",
       "Personal Injury            0.198463\n",
       "Collision Incident         0.179895\n",
       "Assault                    0.025477\n",
       "Activity Incident Event    0.004923\n",
       "Vandalism Hooliganism      0.003152\n",
       "Safety Critical Failure    0.002850\n",
       "Fire                       0.000259\n",
       "Robbery                    0.000130\n",
       "Name: Incident_Event_Type, dtype: float64"
      ]
     },
     "execution_count": 212,
     "metadata": {},
     "output_type": "execute_result"
    }
   ],
   "source": [
    "frequency_relative"
   ]
  },
  {
   "cell_type": "code",
   "execution_count": 77,
   "id": "15d069d3",
   "metadata": {},
   "outputs": [],
   "source": [
    "?plt.margins"
   ]
  },
  {
   "cell_type": "code",
   "execution_count": 327,
   "id": "3b603e93",
   "metadata": {},
   "outputs": [
    {
     "data": {
      "image/png": "[encoded data removed]",
      "text/plain": [
       "<Figure size 800x800 with 1 Axes>"
      ]
     },
     "metadata": {},
     "output_type": "display_data"
    }
   ],
   "source": [
    "cores = ['silver','lightsteelblue']\n",
    "plt.figure(figsize = [8,8])\n",
    "plt.margins(0.2,0.01)\n",
    "graphic = plt.barh(indexes, frequency_relative * 100, color = cores)\n",
    "for item in graphic:\n",
    "    \n",
    "    largura = item.get_width()\n",
    "    \n",
    "    plt.annotate(f'{largura:.2f} %',(largura +.4, item.get_y() + item.get_height() / 2))\n",
    "    title = plt.title(\"Percentual de Incidentes por Tipo de Evento\")\n",
    "    title.set_backgroundcolor('gainsboro')\n",
    "    title.set_color('gray')\n",
    "plt.xlim(0,35)\n",
    "plt.yticks(indexes, frequency_relative.index)\n",
    "plt.show()"
   ]
  },
  {
   "cell_type": "markdown",
   "id": "c9f9d331",
   "metadata": {},
   "source": [
    "O maior tipo de incidente são os incidentes envolvendo escorregões, quedas.."
   ]
  },
  {
   "cell_type": "markdown",
   "id": "340fd289",
   "metadata": {},
   "source": [
    "### 4- Como foi a evolução de incidentes por mês ao longo do tempo?"
   ]
  },
  {
   "cell_type": "code",
   "execution_count": 223,
   "id": "ededba8d",
   "metadata": {},
   "outputs": [],
   "source": [
    "query4 = 'SELECT  DISTINCT(Month) as Mês, count(*) as Incidentes, Year as Ano FROM dados GROUP BY Month, Year'"
   ]
  },
  {
   "cell_type": "code",
   "execution_count": 226,
   "id": "b4cba923",
   "metadata": {},
   "outputs": [
    {
     "data": {
      "text/html": [
       "<div>\n",
       "<style scoped>\n",
       "    .dataframe tbody tr th:only-of-type {\n",
       "        vertical-align: middle;\n",
       "    }\n",
       "\n",
       "    .dataframe tbody tr th {\n",
       "        vertical-align: top;\n",
       "    }\n",
       "\n",
       "    .dataframe thead th {\n",
       "        text-align: right;\n",
       "    }\n",
       "</style>\n",
       "<table border=\"1\" class=\"dataframe\">\n",
       "  <thead>\n",
       "    <tr style=\"text-align: right;\">\n",
       "      <th></th>\n",
       "      <th>Mês</th>\n",
       "      <th>Incidentes</th>\n",
       "      <th>Ano</th>\n",
       "    </tr>\n",
       "  </thead>\n",
       "  <tbody>\n",
       "    <tr>\n",
       "      <th>0</th>\n",
       "      <td>01</td>\n",
       "      <td>399</td>\n",
       "      <td>2015</td>\n",
       "    </tr>\n",
       "    <tr>\n",
       "      <th>1</th>\n",
       "      <td>01</td>\n",
       "      <td>466</td>\n",
       "      <td>2016</td>\n",
       "    </tr>\n",
       "    <tr>\n",
       "      <th>2</th>\n",
       "      <td>01</td>\n",
       "      <td>435</td>\n",
       "      <td>2017</td>\n",
       "    </tr>\n",
       "    <tr>\n",
       "      <th>3</th>\n",
       "      <td>01</td>\n",
       "      <td>547</td>\n",
       "      <td>2018</td>\n",
       "    </tr>\n",
       "    <tr>\n",
       "      <th>4</th>\n",
       "      <td>02</td>\n",
       "      <td>371</td>\n",
       "      <td>2015</td>\n",
       "    </tr>\n",
       "    <tr>\n",
       "      <th>5</th>\n",
       "      <td>02</td>\n",
       "      <td>484</td>\n",
       "      <td>2016</td>\n",
       "    </tr>\n",
       "    <tr>\n",
       "      <th>6</th>\n",
       "      <td>02</td>\n",
       "      <td>487</td>\n",
       "      <td>2017</td>\n",
       "    </tr>\n",
       "    <tr>\n",
       "      <th>7</th>\n",
       "      <td>02</td>\n",
       "      <td>507</td>\n",
       "      <td>2018</td>\n",
       "    </tr>\n",
       "    <tr>\n",
       "      <th>8</th>\n",
       "      <td>03</td>\n",
       "      <td>460</td>\n",
       "      <td>2015</td>\n",
       "    </tr>\n",
       "    <tr>\n",
       "      <th>9</th>\n",
       "      <td>03</td>\n",
       "      <td>449</td>\n",
       "      <td>2016</td>\n",
       "    </tr>\n",
       "    <tr>\n",
       "      <th>10</th>\n",
       "      <td>03</td>\n",
       "      <td>579</td>\n",
       "      <td>2017</td>\n",
       "    </tr>\n",
       "    <tr>\n",
       "      <th>11</th>\n",
       "      <td>03</td>\n",
       "      <td>535</td>\n",
       "      <td>2018</td>\n",
       "    </tr>\n",
       "    <tr>\n",
       "      <th>12</th>\n",
       "      <td>04</td>\n",
       "      <td>470</td>\n",
       "      <td>2015</td>\n",
       "    </tr>\n",
       "    <tr>\n",
       "      <th>13</th>\n",
       "      <td>04</td>\n",
       "      <td>504</td>\n",
       "      <td>2016</td>\n",
       "    </tr>\n",
       "    <tr>\n",
       "      <th>14</th>\n",
       "      <td>04</td>\n",
       "      <td>563</td>\n",
       "      <td>2017</td>\n",
       "    </tr>\n",
       "    <tr>\n",
       "      <th>15</th>\n",
       "      <td>04</td>\n",
       "      <td>507</td>\n",
       "      <td>2018</td>\n",
       "    </tr>\n",
       "    <tr>\n",
       "      <th>16</th>\n",
       "      <td>05</td>\n",
       "      <td>472</td>\n",
       "      <td>2015</td>\n",
       "    </tr>\n",
       "    <tr>\n",
       "      <th>17</th>\n",
       "      <td>05</td>\n",
       "      <td>494</td>\n",
       "      <td>2016</td>\n",
       "    </tr>\n",
       "    <tr>\n",
       "      <th>18</th>\n",
       "      <td>05</td>\n",
       "      <td>510</td>\n",
       "      <td>2017</td>\n",
       "    </tr>\n",
       "    <tr>\n",
       "      <th>19</th>\n",
       "      <td>05</td>\n",
       "      <td>589</td>\n",
       "      <td>2018</td>\n",
       "    </tr>\n",
       "    <tr>\n",
       "      <th>20</th>\n",
       "      <td>06</td>\n",
       "      <td>564</td>\n",
       "      <td>2015</td>\n",
       "    </tr>\n",
       "    <tr>\n",
       "      <th>21</th>\n",
       "      <td>06</td>\n",
       "      <td>460</td>\n",
       "      <td>2016</td>\n",
       "    </tr>\n",
       "    <tr>\n",
       "      <th>22</th>\n",
       "      <td>06</td>\n",
       "      <td>516</td>\n",
       "      <td>2017</td>\n",
       "    </tr>\n",
       "    <tr>\n",
       "      <th>23</th>\n",
       "      <td>06</td>\n",
       "      <td>557</td>\n",
       "      <td>2018</td>\n",
       "    </tr>\n",
       "    <tr>\n",
       "      <th>24</th>\n",
       "      <td>07</td>\n",
       "      <td>558</td>\n",
       "      <td>2015</td>\n",
       "    </tr>\n",
       "    <tr>\n",
       "      <th>25</th>\n",
       "      <td>07</td>\n",
       "      <td>507</td>\n",
       "      <td>2016</td>\n",
       "    </tr>\n",
       "    <tr>\n",
       "      <th>26</th>\n",
       "      <td>07</td>\n",
       "      <td>650</td>\n",
       "      <td>2017</td>\n",
       "    </tr>\n",
       "    <tr>\n",
       "      <th>27</th>\n",
       "      <td>07</td>\n",
       "      <td>553</td>\n",
       "      <td>2018</td>\n",
       "    </tr>\n",
       "    <tr>\n",
       "      <th>28</th>\n",
       "      <td>08</td>\n",
       "      <td>446</td>\n",
       "      <td>2015</td>\n",
       "    </tr>\n",
       "    <tr>\n",
       "      <th>29</th>\n",
       "      <td>08</td>\n",
       "      <td>513</td>\n",
       "      <td>2016</td>\n",
       "    </tr>\n",
       "    <tr>\n",
       "      <th>30</th>\n",
       "      <td>08</td>\n",
       "      <td>563</td>\n",
       "      <td>2017</td>\n",
       "    </tr>\n",
       "    <tr>\n",
       "      <th>31</th>\n",
       "      <td>08</td>\n",
       "      <td>491</td>\n",
       "      <td>2018</td>\n",
       "    </tr>\n",
       "    <tr>\n",
       "      <th>32</th>\n",
       "      <td>09</td>\n",
       "      <td>487</td>\n",
       "      <td>2015</td>\n",
       "    </tr>\n",
       "    <tr>\n",
       "      <th>33</th>\n",
       "      <td>09</td>\n",
       "      <td>582</td>\n",
       "      <td>2016</td>\n",
       "    </tr>\n",
       "    <tr>\n",
       "      <th>34</th>\n",
       "      <td>09</td>\n",
       "      <td>549</td>\n",
       "      <td>2017</td>\n",
       "    </tr>\n",
       "    <tr>\n",
       "      <th>35</th>\n",
       "      <td>09</td>\n",
       "      <td>491</td>\n",
       "      <td>2018</td>\n",
       "    </tr>\n",
       "    <tr>\n",
       "      <th>36</th>\n",
       "      <td>10</td>\n",
       "      <td>470</td>\n",
       "      <td>2015</td>\n",
       "    </tr>\n",
       "    <tr>\n",
       "      <th>37</th>\n",
       "      <td>10</td>\n",
       "      <td>551</td>\n",
       "      <td>2016</td>\n",
       "    </tr>\n",
       "    <tr>\n",
       "      <th>38</th>\n",
       "      <td>10</td>\n",
       "      <td>621</td>\n",
       "      <td>2017</td>\n",
       "    </tr>\n",
       "    <tr>\n",
       "      <th>39</th>\n",
       "      <td>11</td>\n",
       "      <td>495</td>\n",
       "      <td>2015</td>\n",
       "    </tr>\n",
       "    <tr>\n",
       "      <th>40</th>\n",
       "      <td>11</td>\n",
       "      <td>612</td>\n",
       "      <td>2016</td>\n",
       "    </tr>\n",
       "    <tr>\n",
       "      <th>41</th>\n",
       "      <td>11</td>\n",
       "      <td>584</td>\n",
       "      <td>2017</td>\n",
       "    </tr>\n",
       "    <tr>\n",
       "      <th>42</th>\n",
       "      <td>12</td>\n",
       "      <td>523</td>\n",
       "      <td>2015</td>\n",
       "    </tr>\n",
       "    <tr>\n",
       "      <th>43</th>\n",
       "      <td>12</td>\n",
       "      <td>471</td>\n",
       "      <td>2016</td>\n",
       "    </tr>\n",
       "    <tr>\n",
       "      <th>44</th>\n",
       "      <td>12</td>\n",
       "      <td>516</td>\n",
       "      <td>2017</td>\n",
       "    </tr>\n",
       "  </tbody>\n",
       "</table>\n",
       "</div>"
      ],
      "text/plain": [
       "   Mês  Incidentes   Ano\n",
       "0   01         399  2015\n",
       "1   01         466  2016\n",
       "2   01         435  2017\n",
       "3   01         547  2018\n",
       "4   02         371  2015\n",
       "5   02         484  2016\n",
       "6   02         487  2017\n",
       "7   02         507  2018\n",
       "8   03         460  2015\n",
       "9   03         449  2016\n",
       "10  03         579  2017\n",
       "11  03         535  2018\n",
       "12  04         470  2015\n",
       "13  04         504  2016\n",
       "14  04         563  2017\n",
       "15  04         507  2018\n",
       "16  05         472  2015\n",
       "17  05         494  2016\n",
       "18  05         510  2017\n",
       "19  05         589  2018\n",
       "20  06         564  2015\n",
       "21  06         460  2016\n",
       "22  06         516  2017\n",
       "23  06         557  2018\n",
       "24  07         558  2015\n",
       "25  07         507  2016\n",
       "26  07         650  2017\n",
       "27  07         553  2018\n",
       "28  08         446  2015\n",
       "29  08         513  2016\n",
       "30  08         563  2017\n",
       "31  08         491  2018\n",
       "32  09         487  2015\n",
       "33  09         582  2016\n",
       "34  09         549  2017\n",
       "35  09         491  2018\n",
       "36  10         470  2015\n",
       "37  10         551  2016\n",
       "38  10         621  2017\n",
       "39  11         495  2015\n",
       "40  11         612  2016\n",
       "41  11         584  2017\n",
       "42  12         523  2015\n",
       "43  12         471  2016\n",
       "44  12         516  2017"
      ]
     },
     "execution_count": 226,
     "metadata": {},
     "output_type": "execute_result"
    }
   ],
   "source": [
    "resultado4 = pysqldf(query4)\n",
    "resultado4"
   ]
  },
  {
   "cell_type": "code",
   "execution_count": 227,
   "id": "5a480231",
   "metadata": {},
   "outputs": [
    {
     "data": {
      "text/html": [
       "<div>\n",
       "<style scoped>\n",
       "    .dataframe tbody tr th:only-of-type {\n",
       "        vertical-align: middle;\n",
       "    }\n",
       "\n",
       "    .dataframe tbody tr th {\n",
       "        vertical-align: top;\n",
       "    }\n",
       "\n",
       "    .dataframe thead th {\n",
       "        text-align: right;\n",
       "    }\n",
       "</style>\n",
       "<table border=\"1\" class=\"dataframe\">\n",
       "  <thead>\n",
       "    <tr style=\"text-align: right;\">\n",
       "      <th></th>\n",
       "      <th>Mês</th>\n",
       "      <th>Incidentes</th>\n",
       "      <th>Ano</th>\n",
       "    </tr>\n",
       "  </thead>\n",
       "  <tbody>\n",
       "    <tr>\n",
       "      <th>0</th>\n",
       "      <td>01</td>\n",
       "      <td>399</td>\n",
       "      <td>2015</td>\n",
       "    </tr>\n",
       "    <tr>\n",
       "      <th>4</th>\n",
       "      <td>02</td>\n",
       "      <td>371</td>\n",
       "      <td>2015</td>\n",
       "    </tr>\n",
       "    <tr>\n",
       "      <th>8</th>\n",
       "      <td>03</td>\n",
       "      <td>460</td>\n",
       "      <td>2015</td>\n",
       "    </tr>\n",
       "    <tr>\n",
       "      <th>12</th>\n",
       "      <td>04</td>\n",
       "      <td>470</td>\n",
       "      <td>2015</td>\n",
       "    </tr>\n",
       "    <tr>\n",
       "      <th>16</th>\n",
       "      <td>05</td>\n",
       "      <td>472</td>\n",
       "      <td>2015</td>\n",
       "    </tr>\n",
       "    <tr>\n",
       "      <th>20</th>\n",
       "      <td>06</td>\n",
       "      <td>564</td>\n",
       "      <td>2015</td>\n",
       "    </tr>\n",
       "    <tr>\n",
       "      <th>24</th>\n",
       "      <td>07</td>\n",
       "      <td>558</td>\n",
       "      <td>2015</td>\n",
       "    </tr>\n",
       "    <tr>\n",
       "      <th>28</th>\n",
       "      <td>08</td>\n",
       "      <td>446</td>\n",
       "      <td>2015</td>\n",
       "    </tr>\n",
       "    <tr>\n",
       "      <th>32</th>\n",
       "      <td>09</td>\n",
       "      <td>487</td>\n",
       "      <td>2015</td>\n",
       "    </tr>\n",
       "    <tr>\n",
       "      <th>36</th>\n",
       "      <td>10</td>\n",
       "      <td>470</td>\n",
       "      <td>2015</td>\n",
       "    </tr>\n",
       "    <tr>\n",
       "      <th>39</th>\n",
       "      <td>11</td>\n",
       "      <td>495</td>\n",
       "      <td>2015</td>\n",
       "    </tr>\n",
       "    <tr>\n",
       "      <th>42</th>\n",
       "      <td>12</td>\n",
       "      <td>523</td>\n",
       "      <td>2015</td>\n",
       "    </tr>\n",
       "    <tr>\n",
       "      <th>1</th>\n",
       "      <td>01</td>\n",
       "      <td>466</td>\n",
       "      <td>2016</td>\n",
       "    </tr>\n",
       "    <tr>\n",
       "      <th>5</th>\n",
       "      <td>02</td>\n",
       "      <td>484</td>\n",
       "      <td>2016</td>\n",
       "    </tr>\n",
       "    <tr>\n",
       "      <th>9</th>\n",
       "      <td>03</td>\n",
       "      <td>449</td>\n",
       "      <td>2016</td>\n",
       "    </tr>\n",
       "    <tr>\n",
       "      <th>13</th>\n",
       "      <td>04</td>\n",
       "      <td>504</td>\n",
       "      <td>2016</td>\n",
       "    </tr>\n",
       "    <tr>\n",
       "      <th>17</th>\n",
       "      <td>05</td>\n",
       "      <td>494</td>\n",
       "      <td>2016</td>\n",
       "    </tr>\n",
       "    <tr>\n",
       "      <th>21</th>\n",
       "      <td>06</td>\n",
       "      <td>460</td>\n",
       "      <td>2016</td>\n",
       "    </tr>\n",
       "    <tr>\n",
       "      <th>25</th>\n",
       "      <td>07</td>\n",
       "      <td>507</td>\n",
       "      <td>2016</td>\n",
       "    </tr>\n",
       "    <tr>\n",
       "      <th>29</th>\n",
       "      <td>08</td>\n",
       "      <td>513</td>\n",
       "      <td>2016</td>\n",
       "    </tr>\n",
       "    <tr>\n",
       "      <th>33</th>\n",
       "      <td>09</td>\n",
       "      <td>582</td>\n",
       "      <td>2016</td>\n",
       "    </tr>\n",
       "    <tr>\n",
       "      <th>37</th>\n",
       "      <td>10</td>\n",
       "      <td>551</td>\n",
       "      <td>2016</td>\n",
       "    </tr>\n",
       "    <tr>\n",
       "      <th>40</th>\n",
       "      <td>11</td>\n",
       "      <td>612</td>\n",
       "      <td>2016</td>\n",
       "    </tr>\n",
       "    <tr>\n",
       "      <th>43</th>\n",
       "      <td>12</td>\n",
       "      <td>471</td>\n",
       "      <td>2016</td>\n",
       "    </tr>\n",
       "    <tr>\n",
       "      <th>2</th>\n",
       "      <td>01</td>\n",
       "      <td>435</td>\n",
       "      <td>2017</td>\n",
       "    </tr>\n",
       "    <tr>\n",
       "      <th>6</th>\n",
       "      <td>02</td>\n",
       "      <td>487</td>\n",
       "      <td>2017</td>\n",
       "    </tr>\n",
       "    <tr>\n",
       "      <th>10</th>\n",
       "      <td>03</td>\n",
       "      <td>579</td>\n",
       "      <td>2017</td>\n",
       "    </tr>\n",
       "    <tr>\n",
       "      <th>14</th>\n",
       "      <td>04</td>\n",
       "      <td>563</td>\n",
       "      <td>2017</td>\n",
       "    </tr>\n",
       "    <tr>\n",
       "      <th>18</th>\n",
       "      <td>05</td>\n",
       "      <td>510</td>\n",
       "      <td>2017</td>\n",
       "    </tr>\n",
       "    <tr>\n",
       "      <th>22</th>\n",
       "      <td>06</td>\n",
       "      <td>516</td>\n",
       "      <td>2017</td>\n",
       "    </tr>\n",
       "    <tr>\n",
       "      <th>26</th>\n",
       "      <td>07</td>\n",
       "      <td>650</td>\n",
       "      <td>2017</td>\n",
       "    </tr>\n",
       "    <tr>\n",
       "      <th>30</th>\n",
       "      <td>08</td>\n",
       "      <td>563</td>\n",
       "      <td>2017</td>\n",
       "    </tr>\n",
       "    <tr>\n",
       "      <th>34</th>\n",
       "      <td>09</td>\n",
       "      <td>549</td>\n",
       "      <td>2017</td>\n",
       "    </tr>\n",
       "    <tr>\n",
       "      <th>38</th>\n",
       "      <td>10</td>\n",
       "      <td>621</td>\n",
       "      <td>2017</td>\n",
       "    </tr>\n",
       "    <tr>\n",
       "      <th>41</th>\n",
       "      <td>11</td>\n",
       "      <td>584</td>\n",
       "      <td>2017</td>\n",
       "    </tr>\n",
       "    <tr>\n",
       "      <th>44</th>\n",
       "      <td>12</td>\n",
       "      <td>516</td>\n",
       "      <td>2017</td>\n",
       "    </tr>\n",
       "    <tr>\n",
       "      <th>3</th>\n",
       "      <td>01</td>\n",
       "      <td>547</td>\n",
       "      <td>2018</td>\n",
       "    </tr>\n",
       "    <tr>\n",
       "      <th>7</th>\n",
       "      <td>02</td>\n",
       "      <td>507</td>\n",
       "      <td>2018</td>\n",
       "    </tr>\n",
       "    <tr>\n",
       "      <th>11</th>\n",
       "      <td>03</td>\n",
       "      <td>535</td>\n",
       "      <td>2018</td>\n",
       "    </tr>\n",
       "    <tr>\n",
       "      <th>15</th>\n",
       "      <td>04</td>\n",
       "      <td>507</td>\n",
       "      <td>2018</td>\n",
       "    </tr>\n",
       "    <tr>\n",
       "      <th>19</th>\n",
       "      <td>05</td>\n",
       "      <td>589</td>\n",
       "      <td>2018</td>\n",
       "    </tr>\n",
       "    <tr>\n",
       "      <th>23</th>\n",
       "      <td>06</td>\n",
       "      <td>557</td>\n",
       "      <td>2018</td>\n",
       "    </tr>\n",
       "    <tr>\n",
       "      <th>27</th>\n",
       "      <td>07</td>\n",
       "      <td>553</td>\n",
       "      <td>2018</td>\n",
       "    </tr>\n",
       "    <tr>\n",
       "      <th>31</th>\n",
       "      <td>08</td>\n",
       "      <td>491</td>\n",
       "      <td>2018</td>\n",
       "    </tr>\n",
       "    <tr>\n",
       "      <th>35</th>\n",
       "      <td>09</td>\n",
       "      <td>491</td>\n",
       "      <td>2018</td>\n",
       "    </tr>\n",
       "  </tbody>\n",
       "</table>\n",
       "</div>"
      ],
      "text/plain": [
       "   Mês  Incidentes   Ano\n",
       "0   01         399  2015\n",
       "4   02         371  2015\n",
       "8   03         460  2015\n",
       "12  04         470  2015\n",
       "16  05         472  2015\n",
       "20  06         564  2015\n",
       "24  07         558  2015\n",
       "28  08         446  2015\n",
       "32  09         487  2015\n",
       "36  10         470  2015\n",
       "39  11         495  2015\n",
       "42  12         523  2015\n",
       "1   01         466  2016\n",
       "5   02         484  2016\n",
       "9   03         449  2016\n",
       "13  04         504  2016\n",
       "17  05         494  2016\n",
       "21  06         460  2016\n",
       "25  07         507  2016\n",
       "29  08         513  2016\n",
       "33  09         582  2016\n",
       "37  10         551  2016\n",
       "40  11         612  2016\n",
       "43  12         471  2016\n",
       "2   01         435  2017\n",
       "6   02         487  2017\n",
       "10  03         579  2017\n",
       "14  04         563  2017\n",
       "18  05         510  2017\n",
       "22  06         516  2017\n",
       "26  07         650  2017\n",
       "30  08         563  2017\n",
       "34  09         549  2017\n",
       "38  10         621  2017\n",
       "41  11         584  2017\n",
       "44  12         516  2017\n",
       "3   01         547  2018\n",
       "7   02         507  2018\n",
       "11  03         535  2018\n",
       "15  04         507  2018\n",
       "19  05         589  2018\n",
       "23  06         557  2018\n",
       "27  07         553  2018\n",
       "31  08         491  2018\n",
       "35  09         491  2018"
      ]
     },
     "execution_count": 227,
     "metadata": {},
     "output_type": "execute_result"
    }
   ],
   "source": [
    "ordenado = resultado4.sort_values(by=['Ano','Mês'])\n",
    "ordenado"
   ]
  },
  {
   "cell_type": "code",
   "execution_count": 228,
   "id": "fd08a69d",
   "metadata": {},
   "outputs": [
    {
     "data": {
      "text/html": [
       "<div>\n",
       "<style scoped>\n",
       "    .dataframe tbody tr th:only-of-type {\n",
       "        vertical-align: middle;\n",
       "    }\n",
       "\n",
       "    .dataframe tbody tr th {\n",
       "        vertical-align: top;\n",
       "    }\n",
       "\n",
       "    .dataframe thead th {\n",
       "        text-align: right;\n",
       "    }\n",
       "</style>\n",
       "<table border=\"1\" class=\"dataframe\">\n",
       "  <thead>\n",
       "    <tr style=\"text-align: right;\">\n",
       "      <th>Ano</th>\n",
       "      <th>2015</th>\n",
       "      <th>2016</th>\n",
       "      <th>2017</th>\n",
       "      <th>2018</th>\n",
       "    </tr>\n",
       "    <tr>\n",
       "      <th>Mês</th>\n",
       "      <th></th>\n",
       "      <th></th>\n",
       "      <th></th>\n",
       "      <th></th>\n",
       "    </tr>\n",
       "  </thead>\n",
       "  <tbody>\n",
       "    <tr>\n",
       "      <th>01</th>\n",
       "      <td>399.0</td>\n",
       "      <td>466.0</td>\n",
       "      <td>435.0</td>\n",
       "      <td>547.0</td>\n",
       "    </tr>\n",
       "    <tr>\n",
       "      <th>02</th>\n",
       "      <td>371.0</td>\n",
       "      <td>484.0</td>\n",
       "      <td>487.0</td>\n",
       "      <td>507.0</td>\n",
       "    </tr>\n",
       "    <tr>\n",
       "      <th>03</th>\n",
       "      <td>460.0</td>\n",
       "      <td>449.0</td>\n",
       "      <td>579.0</td>\n",
       "      <td>535.0</td>\n",
       "    </tr>\n",
       "    <tr>\n",
       "      <th>04</th>\n",
       "      <td>470.0</td>\n",
       "      <td>504.0</td>\n",
       "      <td>563.0</td>\n",
       "      <td>507.0</td>\n",
       "    </tr>\n",
       "    <tr>\n",
       "      <th>05</th>\n",
       "      <td>472.0</td>\n",
       "      <td>494.0</td>\n",
       "      <td>510.0</td>\n",
       "      <td>589.0</td>\n",
       "    </tr>\n",
       "    <tr>\n",
       "      <th>06</th>\n",
       "      <td>564.0</td>\n",
       "      <td>460.0</td>\n",
       "      <td>516.0</td>\n",
       "      <td>557.0</td>\n",
       "    </tr>\n",
       "    <tr>\n",
       "      <th>07</th>\n",
       "      <td>558.0</td>\n",
       "      <td>507.0</td>\n",
       "      <td>650.0</td>\n",
       "      <td>553.0</td>\n",
       "    </tr>\n",
       "    <tr>\n",
       "      <th>08</th>\n",
       "      <td>446.0</td>\n",
       "      <td>513.0</td>\n",
       "      <td>563.0</td>\n",
       "      <td>491.0</td>\n",
       "    </tr>\n",
       "    <tr>\n",
       "      <th>09</th>\n",
       "      <td>487.0</td>\n",
       "      <td>582.0</td>\n",
       "      <td>549.0</td>\n",
       "      <td>491.0</td>\n",
       "    </tr>\n",
       "    <tr>\n",
       "      <th>10</th>\n",
       "      <td>470.0</td>\n",
       "      <td>551.0</td>\n",
       "      <td>621.0</td>\n",
       "      <td>NaN</td>\n",
       "    </tr>\n",
       "    <tr>\n",
       "      <th>11</th>\n",
       "      <td>495.0</td>\n",
       "      <td>612.0</td>\n",
       "      <td>584.0</td>\n",
       "      <td>NaN</td>\n",
       "    </tr>\n",
       "    <tr>\n",
       "      <th>12</th>\n",
       "      <td>523.0</td>\n",
       "      <td>471.0</td>\n",
       "      <td>516.0</td>\n",
       "      <td>NaN</td>\n",
       "    </tr>\n",
       "  </tbody>\n",
       "</table>\n",
       "</div>"
      ],
      "text/plain": [
       "Ano   2015   2016   2017   2018\n",
       "Mês                            \n",
       "01   399.0  466.0  435.0  547.0\n",
       "02   371.0  484.0  487.0  507.0\n",
       "03   460.0  449.0  579.0  535.0\n",
       "04   470.0  504.0  563.0  507.0\n",
       "05   472.0  494.0  510.0  589.0\n",
       "06   564.0  460.0  516.0  557.0\n",
       "07   558.0  507.0  650.0  553.0\n",
       "08   446.0  513.0  563.0  491.0\n",
       "09   487.0  582.0  549.0  491.0\n",
       "10   470.0  551.0  621.0    NaN\n",
       "11   495.0  612.0  584.0    NaN\n",
       "12   523.0  471.0  516.0    NaN"
      ]
     },
     "execution_count": 228,
     "metadata": {},
     "output_type": "execute_result"
    }
   ],
   "source": [
    "tabela_final = ordenado.pivot(index = \"Mês\", columns='Ano', values ='Incidentes')\n",
    "tabela_final"
   ]
  },
  {
   "cell_type": "code",
   "execution_count": 229,
   "id": "0d32faf0",
   "metadata": {},
   "outputs": [],
   "source": [
    "indices = [0,1,2,3,4,5,6,7,8,9,10,11]\n",
    "meses = ['Jan', 'Fev','Mar','Abr','Mai','Jun','Jul','Ago','Set','Out','Nov','Dez']"
   ]
  },
  {
   "cell_type": "code",
   "execution_count": 120,
   "id": "a46c461a",
   "metadata": {},
   "outputs": [],
   "source": [
    "?plt.plot"
   ]
  },
  {
   "cell_type": "code",
   "execution_count": 230,
   "id": "9a6cb9da",
   "metadata": {},
   "outputs": [
    {
     "data": {
      "text/plain": [
       "array([[399., 466., 435., 547.],\n",
       "       [371., 484., 487., 507.],\n",
       "       [460., 449., 579., 535.],\n",
       "       [470., 504., 563., 507.],\n",
       "       [472., 494., 510., 589.],\n",
       "       [564., 460., 516., 557.],\n",
       "       [558., 507., 650., 553.],\n",
       "       [446., 513., 563., 491.],\n",
       "       [487., 582., 549., 491.],\n",
       "       [470., 551., 621.,  nan],\n",
       "       [495., 612., 584.,  nan],\n",
       "       [523., 471., 516.,  nan]])"
      ]
     },
     "execution_count": 230,
     "metadata": {},
     "output_type": "execute_result"
    }
   ],
   "source": [
    "tabela_final.values"
   ]
  },
  {
   "cell_type": "code",
   "execution_count": 233,
   "id": "e98492e9",
   "metadata": {},
   "outputs": [
    {
     "data": {
      "image/png": "[encoded data removed]",
      "text/plain": [
       "<Figure size 1000x1000 with 4 Axes>"
      ]
     },
     "metadata": {},
     "output_type": "display_data"
    }
   ],
   "source": [
    "fig, ax = plt.subplots(4,1, figsize= (10,10),sharex= True)\n",
    "colors = ['cornflowerblue','plum','palegreen','chocolate']\n",
    "plt.setp(ax, xticks=indices, xticklabels=meses)\n",
    "for k in range(len(ax)):\n",
    "    ax[k].plot(tabela_final.columns[k], data=tabela_final, color=colors[k],linewidth=2)   \n",
    "    title = ax[0].title.set_text('Evolução de Incidentes por Mês ao Longo do tempo')\n",
    "    ax[k].legend()\n",
    "    "
   ]
  },
  {
   "cell_type": "markdown",
   "id": "30336be7",
   "metadata": {},
   "source": [
    "### 5- Quando o incidente foi “Collision Incident” em qual mês houve o maior número de incidentes envolvendo pessoas do sexo feminino?"
   ]
  },
  {
   "cell_type": "code",
   "execution_count": 234,
   "id": "b924d860",
   "metadata": {},
   "outputs": [],
   "source": [
    "mes5 = 'SELECT Month, count(*) AS qtd FROM dados WHERE Incident_Event_Type = \"Collision Incident\" AND Gender_class = \"Female\" GROUP BY Month ORDER BY qtd desc LIMIT 1'"
   ]
  },
  {
   "cell_type": "code",
   "execution_count": 235,
   "id": "920717dd",
   "metadata": {},
   "outputs": [
    {
     "data": {
      "text/html": [
       "<div>\n",
       "<style scoped>\n",
       "    .dataframe tbody tr th:only-of-type {\n",
       "        vertical-align: middle;\n",
       "    }\n",
       "\n",
       "    .dataframe tbody tr th {\n",
       "        vertical-align: top;\n",
       "    }\n",
       "\n",
       "    .dataframe thead th {\n",
       "        text-align: right;\n",
       "    }\n",
       "</style>\n",
       "<table border=\"1\" class=\"dataframe\">\n",
       "  <thead>\n",
       "    <tr style=\"text-align: right;\">\n",
       "      <th></th>\n",
       "      <th>Month</th>\n",
       "      <th>qtd</th>\n",
       "    </tr>\n",
       "  </thead>\n",
       "  <tbody>\n",
       "    <tr>\n",
       "      <th>0</th>\n",
       "      <td>07</td>\n",
       "      <td>216</td>\n",
       "    </tr>\n",
       "  </tbody>\n",
       "</table>\n",
       "</div>"
      ],
      "text/plain": [
       "  Month  qtd\n",
       "0    07  216"
      ]
     },
     "execution_count": 235,
     "metadata": {},
     "output_type": "execute_result"
    }
   ],
   "source": [
    "# Mês de julho com mais incidentes envolvendo o gênero feminino com o incidente Colisão\n",
    "mes_com_mais_femi = pysqldf(mes5)\n",
    "mes_com_mais_femi"
   ]
  },
  {
   "cell_type": "code",
   "execution_count": 236,
   "id": "68f5cc18",
   "metadata": {},
   "outputs": [],
   "source": [
    "query5 = 'SELECT Month, count(*) AS qtd FROM dados WHERE Incident_Event_Type = \"Collision Incident\" AND Gender_class = \"Female\" GROUP BY Month ORDER BY qtd desc'"
   ]
  },
  {
   "cell_type": "code",
   "execution_count": 237,
   "id": "ca0dacd6",
   "metadata": {},
   "outputs": [
    {
     "data": {
      "text/html": [
       "<div>\n",
       "<style scoped>\n",
       "    .dataframe tbody tr th:only-of-type {\n",
       "        vertical-align: middle;\n",
       "    }\n",
       "\n",
       "    .dataframe tbody tr th {\n",
       "        vertical-align: top;\n",
       "    }\n",
       "\n",
       "    .dataframe thead th {\n",
       "        text-align: right;\n",
       "    }\n",
       "</style>\n",
       "<table border=\"1\" class=\"dataframe\">\n",
       "  <thead>\n",
       "    <tr style=\"text-align: right;\">\n",
       "      <th></th>\n",
       "      <th>Month</th>\n",
       "      <th>qtd</th>\n",
       "    </tr>\n",
       "  </thead>\n",
       "  <tbody>\n",
       "    <tr>\n",
       "      <th>0</th>\n",
       "      <td>07</td>\n",
       "      <td>216</td>\n",
       "    </tr>\n",
       "    <tr>\n",
       "      <th>1</th>\n",
       "      <td>11</td>\n",
       "      <td>201</td>\n",
       "    </tr>\n",
       "    <tr>\n",
       "      <th>2</th>\n",
       "      <td>06</td>\n",
       "      <td>198</td>\n",
       "    </tr>\n",
       "    <tr>\n",
       "      <th>3</th>\n",
       "      <td>01</td>\n",
       "      <td>196</td>\n",
       "    </tr>\n",
       "    <tr>\n",
       "      <th>4</th>\n",
       "      <td>09</td>\n",
       "      <td>194</td>\n",
       "    </tr>\n",
       "    <tr>\n",
       "      <th>5</th>\n",
       "      <td>03</td>\n",
       "      <td>189</td>\n",
       "    </tr>\n",
       "    <tr>\n",
       "      <th>6</th>\n",
       "      <td>04</td>\n",
       "      <td>188</td>\n",
       "    </tr>\n",
       "    <tr>\n",
       "      <th>7</th>\n",
       "      <td>05</td>\n",
       "      <td>177</td>\n",
       "    </tr>\n",
       "    <tr>\n",
       "      <th>8</th>\n",
       "      <td>08</td>\n",
       "      <td>168</td>\n",
       "    </tr>\n",
       "    <tr>\n",
       "      <th>9</th>\n",
       "      <td>02</td>\n",
       "      <td>168</td>\n",
       "    </tr>\n",
       "    <tr>\n",
       "      <th>10</th>\n",
       "      <td>10</td>\n",
       "      <td>159</td>\n",
       "    </tr>\n",
       "    <tr>\n",
       "      <th>11</th>\n",
       "      <td>12</td>\n",
       "      <td>115</td>\n",
       "    </tr>\n",
       "  </tbody>\n",
       "</table>\n",
       "</div>"
      ],
      "text/plain": [
       "   Month  qtd\n",
       "0     07  216\n",
       "1     11  201\n",
       "2     06  198\n",
       "3     01  196\n",
       "4     09  194\n",
       "5     03  189\n",
       "6     04  188\n",
       "7     05  177\n",
       "8     08  168\n",
       "9     02  168\n",
       "10    10  159\n",
       "11    12  115"
      ]
     },
     "execution_count": 237,
     "metadata": {},
     "output_type": "execute_result"
    }
   ],
   "source": [
    "resultado5 = pysqldf(query5)\n",
    "resultado5"
   ]
  },
  {
   "cell_type": "code",
   "execution_count": 238,
   "id": "da64595e",
   "metadata": {},
   "outputs": [],
   "source": [
    "resultado5['Month'] = resultado5['Month'].astype(int)"
   ]
  },
  {
   "cell_type": "code",
   "execution_count": 243,
   "id": "db0af353",
   "metadata": {},
   "outputs": [
    {
     "data": {
      "image/png": "[encoded data removed]",
      "text/plain": [
       "<Figure size 1000x500 with 1 Axes>"
      ]
     },
     "metadata": {},
     "output_type": "display_data"
    }
   ],
   "source": [
    "plt.figure(figsize = [10,5])\n",
    "sns.set_palette(\"Pastel2\")\n",
    "ax = sns.barplot(data=resultado5, x=\"Month\", y = \"qtd\")\n",
    "for p in ax.patches:\n",
    "    if not(5.0 <= p.get_x() < 6.5):\n",
    "        p.set_facecolor('lightgrey')\n",
    "        title = ax.set_title('Mês com mais incidentes do tipo \"Colisão\" envolvendo o gênero Feminino')\n",
    "        title.set_backgroundcolor('gainsboro')\n",
    "        title.set_color(\"gray\")\n",
    "        ax.set_xlabel(\" \")\n",
    "        ax.set_ylabel(\" \")\n",
    "        ax.set_xticklabels([\"Jan\", \"Fev\", \"Mar\", \"Abr\", \"Mai\",\"Jun\",\"Jul\",\"Ago\",\"Set\",\"Out\",\"Nov\",\"Dez\"])\n",
    "        largura = p.get_width()\n",
    "        nova_largura = largura * 0.5\n",
    "        x = p.get_x()\n",
    "        p.set_x(x + (largura - nova_largura) / 2)\n",
    "        p.set_width(nova_largura)\n",
    "plt.show()"
   ]
  },
  {
   "cell_type": "markdown",
   "id": "ad18b794",
   "metadata": {},
   "source": [
    "### 6- Qual foi a média de incidentes por mês envolvendo crianças (Child)?"
   ]
  },
  {
   "cell_type": "code",
   "execution_count": 244,
   "id": "2105e1c0",
   "metadata": {},
   "outputs": [],
   "source": [
    "incidentes_crianca = 'SELECT Month, Year, COUNT(*) AS Incidentes FROM dados WHERE Age= \"Child\" GROUP BY Month, Year'"
   ]
  },
  {
   "cell_type": "code",
   "execution_count": 245,
   "id": "f671b995",
   "metadata": {},
   "outputs": [],
   "source": [
    "tabela6 = pysqldf(incidentes_crianca)"
   ]
  },
  {
   "cell_type": "code",
   "execution_count": 246,
   "id": "ae555075",
   "metadata": {},
   "outputs": [],
   "source": [
    "tabela6_pivot = tabela6.pivot(index = 'Month', columns = 'Year', values = 'Incidentes')"
   ]
  },
  {
   "cell_type": "code",
   "execution_count": 247,
   "id": "b6c4c161",
   "metadata": {},
   "outputs": [
    {
     "data": {
      "text/html": [
       "<div>\n",
       "<style scoped>\n",
       "    .dataframe tbody tr th:only-of-type {\n",
       "        vertical-align: middle;\n",
       "    }\n",
       "\n",
       "    .dataframe tbody tr th {\n",
       "        vertical-align: top;\n",
       "    }\n",
       "\n",
       "    .dataframe thead th {\n",
       "        text-align: right;\n",
       "    }\n",
       "</style>\n",
       "<table border=\"1\" class=\"dataframe\">\n",
       "  <thead>\n",
       "    <tr style=\"text-align: right;\">\n",
       "      <th>Year</th>\n",
       "      <th>2015</th>\n",
       "      <th>2016</th>\n",
       "      <th>2017</th>\n",
       "      <th>2018</th>\n",
       "    </tr>\n",
       "    <tr>\n",
       "      <th>Month</th>\n",
       "      <th></th>\n",
       "      <th></th>\n",
       "      <th></th>\n",
       "      <th></th>\n",
       "    </tr>\n",
       "  </thead>\n",
       "  <tbody>\n",
       "    <tr>\n",
       "      <th>01</th>\n",
       "      <td>31.0</td>\n",
       "      <td>36.0</td>\n",
       "      <td>26.0</td>\n",
       "      <td>33.0</td>\n",
       "    </tr>\n",
       "    <tr>\n",
       "      <th>02</th>\n",
       "      <td>27.0</td>\n",
       "      <td>31.0</td>\n",
       "      <td>47.0</td>\n",
       "      <td>41.0</td>\n",
       "    </tr>\n",
       "    <tr>\n",
       "      <th>03</th>\n",
       "      <td>33.0</td>\n",
       "      <td>35.0</td>\n",
       "      <td>57.0</td>\n",
       "      <td>65.0</td>\n",
       "    </tr>\n",
       "    <tr>\n",
       "      <th>04</th>\n",
       "      <td>36.0</td>\n",
       "      <td>58.0</td>\n",
       "      <td>70.0</td>\n",
       "      <td>62.0</td>\n",
       "    </tr>\n",
       "    <tr>\n",
       "      <th>05</th>\n",
       "      <td>44.0</td>\n",
       "      <td>49.0</td>\n",
       "      <td>50.0</td>\n",
       "      <td>63.0</td>\n",
       "    </tr>\n",
       "    <tr>\n",
       "      <th>06</th>\n",
       "      <td>42.0</td>\n",
       "      <td>64.0</td>\n",
       "      <td>69.0</td>\n",
       "      <td>70.0</td>\n",
       "    </tr>\n",
       "    <tr>\n",
       "      <th>07</th>\n",
       "      <td>40.0</td>\n",
       "      <td>54.0</td>\n",
       "      <td>68.0</td>\n",
       "      <td>70.0</td>\n",
       "    </tr>\n",
       "    <tr>\n",
       "      <th>08</th>\n",
       "      <td>40.0</td>\n",
       "      <td>44.0</td>\n",
       "      <td>68.0</td>\n",
       "      <td>56.0</td>\n",
       "    </tr>\n",
       "    <tr>\n",
       "      <th>09</th>\n",
       "      <td>38.0</td>\n",
       "      <td>57.0</td>\n",
       "      <td>63.0</td>\n",
       "      <td>67.0</td>\n",
       "    </tr>\n",
       "    <tr>\n",
       "      <th>10</th>\n",
       "      <td>33.0</td>\n",
       "      <td>47.0</td>\n",
       "      <td>70.0</td>\n",
       "      <td>NaN</td>\n",
       "    </tr>\n",
       "    <tr>\n",
       "      <th>11</th>\n",
       "      <td>32.0</td>\n",
       "      <td>48.0</td>\n",
       "      <td>40.0</td>\n",
       "      <td>NaN</td>\n",
       "    </tr>\n",
       "    <tr>\n",
       "      <th>12</th>\n",
       "      <td>31.0</td>\n",
       "      <td>39.0</td>\n",
       "      <td>37.0</td>\n",
       "      <td>NaN</td>\n",
       "    </tr>\n",
       "  </tbody>\n",
       "</table>\n",
       "</div>"
      ],
      "text/plain": [
       "Year   2015  2016  2017  2018\n",
       "Month                        \n",
       "01     31.0  36.0  26.0  33.0\n",
       "02     27.0  31.0  47.0  41.0\n",
       "03     33.0  35.0  57.0  65.0\n",
       "04     36.0  58.0  70.0  62.0\n",
       "05     44.0  49.0  50.0  63.0\n",
       "06     42.0  64.0  69.0  70.0\n",
       "07     40.0  54.0  68.0  70.0\n",
       "08     40.0  44.0  68.0  56.0\n",
       "09     38.0  57.0  63.0  67.0\n",
       "10     33.0  47.0  70.0   NaN\n",
       "11     32.0  48.0  40.0   NaN\n",
       "12     31.0  39.0  37.0   NaN"
      ]
     },
     "execution_count": 247,
     "metadata": {},
     "output_type": "execute_result"
    }
   ],
   "source": [
    "tabela6_pivot"
   ]
  },
  {
   "cell_type": "code",
   "execution_count": 248,
   "id": "c5037cd0",
   "metadata": {},
   "outputs": [],
   "source": [
    "tabela6_media = tabela6_pivot.mean(axis = 1)"
   ]
  },
  {
   "cell_type": "code",
   "execution_count": 249,
   "id": "a817aa60",
   "metadata": {},
   "outputs": [
    {
     "data": {
      "text/plain": [
       "Month\n",
       "01    31.500000\n",
       "02    36.500000\n",
       "03    47.500000\n",
       "04    56.500000\n",
       "05    51.500000\n",
       "06    61.250000\n",
       "07    58.000000\n",
       "08    52.000000\n",
       "09    56.250000\n",
       "10    50.000000\n",
       "11    40.000000\n",
       "12    35.666667\n",
       "dtype: float64"
      ]
     },
     "execution_count": 249,
     "metadata": {},
     "output_type": "execute_result"
    }
   ],
   "source": [
    "tabela6_media"
   ]
  },
  {
   "cell_type": "code",
   "execution_count": 329,
   "id": "bfa7a697",
   "metadata": {},
   "outputs": [
    {
     "data": {
      "image/png": "[encoded data removed]",
      "text/plain": [
       "<Figure size 800x400 with 1 Axes>"
      ]
     },
     "metadata": {},
     "output_type": "display_data"
    }
   ],
   "source": [
    "bars = plt.bar(meses, tabela6_media, color = cores)\n",
    "plt.title('Média de incidentes com crianças por mês')\n",
    "plt.ylim(0,65)\n",
    "plt.show()"
   ]
  },
  {
   "cell_type": "code",
   "execution_count": 255,
   "id": "157ddab9",
   "metadata": {},
   "outputs": [],
   "source": [
    "?plt.bar"
   ]
  },
  {
   "cell_type": "markdown",
   "id": "fa6342bc",
   "metadata": {},
   "source": [
    "### 7- Considerando a descrição de incidente como “Injuries treated on scene”  (coluna Injury Result Description), qual o total de incidentes de pessoas do sexo masculino e sexo feminino?"
   ]
  },
  {
   "cell_type": "code",
   "execution_count": 272,
   "id": "0d9ae41b",
   "metadata": {},
   "outputs": [
    {
     "data": {
      "text/plain": [
       "Gender_class\n",
       "Female    11246\n",
       "Male       6090\n",
       "dtype: int64"
      ]
     },
     "execution_count": 272,
     "metadata": {},
     "output_type": "execute_result"
    }
   ],
   "source": [
    "result7 = dados.loc[dados['Injury_Result_Description'] == 'Injuries treated on scene'].groupby('Gender_class').size()\n",
    "result7"
   ]
  },
  {
   "cell_type": "code",
   "execution_count": 284,
   "id": "fe377143",
   "metadata": {},
   "outputs": [
    {
     "data": {
      "image/png": "[encoded data removed]",
      "text/plain": [
       "<Figure size 800x400 with 1 Axes>"
      ]
     },
     "metadata": {},
     "output_type": "display_data"
    }
   ],
   "source": [
    "plt.pie(result7, labels = ['Feminino', 'Masculino'], autopct='%1.1f%%',startangle = 90, colors = ['#CCCCFF','#AFE1AF'])\n",
    "title = plt.title(\"Incidentes tratados no local\")\n",
    "title.set_backgroundcolor('gainsboro')\n",
    "title.set_color('black')\n",
    "plt.show()"
   ]
  },
  {
   "cell_type": "code",
   "execution_count": 281,
   "id": "f22385c7",
   "metadata": {},
   "outputs": [],
   "source": [
    "?plt.pie"
   ]
  },
  {
   "cell_type": "markdown",
   "id": "8d56d696",
   "metadata": {},
   "source": [
    "### 8- No ano de 2017 em qual mês houve mais incidentes com idosos (Elderly)?"
   ]
  },
  {
   "cell_type": "code",
   "execution_count": 285,
   "id": "8774d38f",
   "metadata": {},
   "outputs": [],
   "source": [
    "exercicio8 = 'SELECT Month, COUNT(*) AS qtd FROM dados WHERE Year = \"2017\" AND Age_class = \"Elderly\" GROUP BY Month ORDER BY qtd DESC LIMIT 1'"
   ]
  },
  {
   "cell_type": "code",
   "execution_count": 286,
   "id": "d33cf14a",
   "metadata": {},
   "outputs": [
    {
     "data": {
      "text/html": [
       "<div>\n",
       "<style scoped>\n",
       "    .dataframe tbody tr th:only-of-type {\n",
       "        vertical-align: middle;\n",
       "    }\n",
       "\n",
       "    .dataframe tbody tr th {\n",
       "        vertical-align: top;\n",
       "    }\n",
       "\n",
       "    .dataframe thead th {\n",
       "        text-align: right;\n",
       "    }\n",
       "</style>\n",
       "<table border=\"1\" class=\"dataframe\">\n",
       "  <thead>\n",
       "    <tr style=\"text-align: right;\">\n",
       "      <th></th>\n",
       "      <th>Month</th>\n",
       "      <th>qtd</th>\n",
       "    </tr>\n",
       "  </thead>\n",
       "  <tbody>\n",
       "    <tr>\n",
       "      <th>0</th>\n",
       "      <td>07</td>\n",
       "      <td>81</td>\n",
       "    </tr>\n",
       "  </tbody>\n",
       "</table>\n",
       "</div>"
      ],
      "text/plain": [
       "  Month  qtd\n",
       "0    07   81"
      ]
     },
     "execution_count": 286,
     "metadata": {},
     "output_type": "execute_result"
    }
   ],
   "source": [
    "# Mês de Julho houve mais acidentes com idosos no ano de 2017\n",
    "pysqldf(exercicio8)"
   ]
  },
  {
   "cell_type": "code",
   "execution_count": 287,
   "id": "5bce00d1",
   "metadata": {},
   "outputs": [],
   "source": [
    "exercicio8_grafico = 'SELECT Month, COUNT(*) AS qtd FROM dados WHERE Year = \"2017\" AND Age_class = \"Elderly\" GROUP BY Month'\n",
    "exercicio8_grafico_t = pysqldf(exercicio8_grafico)"
   ]
  },
  {
   "cell_type": "code",
   "execution_count": 325,
   "id": "7841afff",
   "metadata": {},
   "outputs": [
    {
     "data": {
      "image/png": "[encoded data removed]",
      "text/plain": [
       "<Figure size 1000x500 with 1 Axes>"
      ]
     },
     "metadata": {},
     "output_type": "display_data"
    }
   ],
   "source": [
    "plt.figure(figsize = [10,5])\n",
    "\n",
    "ax = sns.barplot(data=exercicio8_grafico_t, x=\"Month\", y = \"qtd\")\n",
    "for p in ax.patches:\n",
    "    if not(5.0 <= p.get_x() < 6.5):\n",
    "        p.set_facecolor('lightgrey')\n",
    "        title = ax.set_title(\"Incidentes com idosos no ano de 2017\")\n",
    "        title.set_backgroundcolor('gainsboro')\n",
    "        ax.set_xlabel(\" \")\n",
    "        ax.set_ylabel(\" \")\n",
    "        ax.set_xticklabels([\"Jan\", \"Fev\", \"Mar\", \"Abr\", \"Mai\",\"Jun\",\"Jul\",\"Ago\",\"Set\",\"Out\",\"Nov\",\"Dez\"])\n",
    "        largura = p.get_width()\n",
    "        nova_largura = largura * 0.5\n",
    "        x = p.get_x()\n",
    "        p.set_x(x + (largura - nova_largura) / 2)\n",
    "        p.set_width(nova_largura)\n",
    "plt.show()"
   ]
  },
  {
   "cell_type": "markdown",
   "id": "edeea2ee",
   "metadata": {},
   "source": [
    "### 9- Considerando o Operador qual a distribuição de incidentes ao longo do tempo?"
   ]
  },
  {
   "cell_type": "code",
   "execution_count": 291,
   "id": "e5a058c2",
   "metadata": {},
   "outputs": [
    {
     "data": {
      "text/plain": [
       "Index(['Year', 'Month', 'Route', 'Operator', 'Group_Name', 'Bus_Garage',\n",
       "       'Borough', 'Injury_Result_Description', 'Incident_Event_Type',\n",
       "       'Victim_Category', 'Gender', 'Age', 'Gender_class', 'Age_class'],\n",
       "      dtype='object')"
      ]
     },
     "execution_count": 291,
     "metadata": {},
     "output_type": "execute_result"
    }
   ],
   "source": [
    "dados.columns"
   ]
  },
  {
   "cell_type": "code",
   "execution_count": 292,
   "id": "5f95f48c",
   "metadata": {},
   "outputs": [
    {
     "data": {
      "text/plain": [
       "array(['London General', 'Metroline', 'East London', 'Selkent',\n",
       "       'London United', 'London Central', 'Metroline West',\n",
       "       'Tower Transit', 'Arriva London North', 'Abellio London',\n",
       "       'Metrobus', 'Arriva London South', 'Arriva The Shires',\n",
       "       'Arriva Kent Thameside', 'Abellio West', 'Docklands Buses',\n",
       "       'Blue Triangle Buses', 'H R Richmond', 'C T Plus',\n",
       "       'London Sovereign', 'TGM GROUP', 'Sullivan Buses', 'Uno Buses',\n",
       "       'Quality Line', 'Sullivan Bus & Coach'], dtype=object)"
      ]
     },
     "execution_count": 292,
     "metadata": {},
     "output_type": "execute_result"
    }
   ],
   "source": [
    "dados['Operator'].unique()"
   ]
  },
  {
   "cell_type": "code",
   "execution_count": 293,
   "id": "9184959c",
   "metadata": {},
   "outputs": [
    {
     "data": {
      "text/plain": [
       "array(['Go-Ahead', 'Metroline', 'Stagecoach', 'London United',\n",
       "       'Tower Transit', 'Arriva London', 'Abellio', 'Arriva The Shires',\n",
       "       'Arriva Kent Thameside', 'Quality Line', 'CT Plus', 'TGM',\n",
       "       'Sullivan Buses', 'Uno Buses'], dtype=object)"
      ]
     },
     "execution_count": 293,
     "metadata": {},
     "output_type": "execute_result"
    }
   ],
   "source": [
    "dados['Group_Name'].unique()"
   ]
  },
  {
   "cell_type": "code",
   "execution_count": 294,
   "id": "c6de0a56",
   "metadata": {},
   "outputs": [],
   "source": [
    "query9 = 'SELECT  DISTINCT(Group_Name) as Grupo_Operador, count(*) as Incidentes,  Year as Ano FROM dados GROUP BY Group_Name'"
   ]
  },
  {
   "cell_type": "code",
   "execution_count": 295,
   "id": "95f4926d",
   "metadata": {},
   "outputs": [
    {
     "data": {
      "text/html": [
       "<div>\n",
       "<style scoped>\n",
       "    .dataframe tbody tr th:only-of-type {\n",
       "        vertical-align: middle;\n",
       "    }\n",
       "\n",
       "    .dataframe tbody tr th {\n",
       "        vertical-align: top;\n",
       "    }\n",
       "\n",
       "    .dataframe thead th {\n",
       "        text-align: right;\n",
       "    }\n",
       "</style>\n",
       "<table border=\"1\" class=\"dataframe\">\n",
       "  <thead>\n",
       "    <tr style=\"text-align: right;\">\n",
       "      <th></th>\n",
       "      <th>Grupo_Operador</th>\n",
       "      <th>Incidentes</th>\n",
       "      <th>Ano</th>\n",
       "    </tr>\n",
       "  </thead>\n",
       "  <tbody>\n",
       "    <tr>\n",
       "      <th>0</th>\n",
       "      <td>Abellio</td>\n",
       "      <td>1089</td>\n",
       "      <td>2015</td>\n",
       "    </tr>\n",
       "    <tr>\n",
       "      <th>1</th>\n",
       "      <td>Arriva Kent Thameside</td>\n",
       "      <td>107</td>\n",
       "      <td>2015</td>\n",
       "    </tr>\n",
       "    <tr>\n",
       "      <th>2</th>\n",
       "      <td>Arriva London</td>\n",
       "      <td>4945</td>\n",
       "      <td>2015</td>\n",
       "    </tr>\n",
       "    <tr>\n",
       "      <th>3</th>\n",
       "      <td>Arriva The Shires</td>\n",
       "      <td>306</td>\n",
       "      <td>2015</td>\n",
       "    </tr>\n",
       "    <tr>\n",
       "      <th>4</th>\n",
       "      <td>CT Plus</td>\n",
       "      <td>77</td>\n",
       "      <td>2015</td>\n",
       "    </tr>\n",
       "    <tr>\n",
       "      <th>5</th>\n",
       "      <td>Go-Ahead</td>\n",
       "      <td>4258</td>\n",
       "      <td>2015</td>\n",
       "    </tr>\n",
       "    <tr>\n",
       "      <th>6</th>\n",
       "      <td>London United</td>\n",
       "      <td>2469</td>\n",
       "      <td>2015</td>\n",
       "    </tr>\n",
       "    <tr>\n",
       "      <th>7</th>\n",
       "      <td>Metroline</td>\n",
       "      <td>4690</td>\n",
       "      <td>2015</td>\n",
       "    </tr>\n",
       "    <tr>\n",
       "      <th>8</th>\n",
       "      <td>Quality Line</td>\n",
       "      <td>201</td>\n",
       "      <td>2015</td>\n",
       "    </tr>\n",
       "    <tr>\n",
       "      <th>9</th>\n",
       "      <td>Stagecoach</td>\n",
       "      <td>4192</td>\n",
       "      <td>2015</td>\n",
       "    </tr>\n",
       "    <tr>\n",
       "      <th>10</th>\n",
       "      <td>Sullivan Buses</td>\n",
       "      <td>3</td>\n",
       "      <td>2016</td>\n",
       "    </tr>\n",
       "    <tr>\n",
       "      <th>11</th>\n",
       "      <td>TGM</td>\n",
       "      <td>63</td>\n",
       "      <td>2016</td>\n",
       "    </tr>\n",
       "    <tr>\n",
       "      <th>12</th>\n",
       "      <td>Tower Transit</td>\n",
       "      <td>757</td>\n",
       "      <td>2015</td>\n",
       "    </tr>\n",
       "    <tr>\n",
       "      <th>13</th>\n",
       "      <td>Uno Buses</td>\n",
       "      <td>1</td>\n",
       "      <td>2017</td>\n",
       "    </tr>\n",
       "  </tbody>\n",
       "</table>\n",
       "</div>"
      ],
      "text/plain": [
       "           Grupo_Operador  Incidentes   Ano\n",
       "0                 Abellio        1089  2015\n",
       "1   Arriva Kent Thameside         107  2015\n",
       "2           Arriva London        4945  2015\n",
       "3       Arriva The Shires         306  2015\n",
       "4                 CT Plus          77  2015\n",
       "5                Go-Ahead        4258  2015\n",
       "6           London United        2469  2015\n",
       "7               Metroline        4690  2015\n",
       "8            Quality Line         201  2015\n",
       "9              Stagecoach        4192  2015\n",
       "10         Sullivan Buses           3  2016\n",
       "11                    TGM          63  2016\n",
       "12          Tower Transit         757  2015\n",
       "13              Uno Buses           1  2017"
      ]
     },
     "execution_count": 295,
     "metadata": {},
     "output_type": "execute_result"
    }
   ],
   "source": [
    "resultado9 = pysqldf(query9)\n",
    "resultado9"
   ]
  },
  {
   "cell_type": "code",
   "execution_count": 296,
   "id": "e14f128a",
   "metadata": {},
   "outputs": [
    {
     "data": {
      "text/html": [
       "<div>\n",
       "<style scoped>\n",
       "    .dataframe tbody tr th:only-of-type {\n",
       "        vertical-align: middle;\n",
       "    }\n",
       "\n",
       "    .dataframe tbody tr th {\n",
       "        vertical-align: top;\n",
       "    }\n",
       "\n",
       "    .dataframe thead th {\n",
       "        text-align: right;\n",
       "    }\n",
       "</style>\n",
       "<table border=\"1\" class=\"dataframe\">\n",
       "  <thead>\n",
       "    <tr style=\"text-align: right;\">\n",
       "      <th></th>\n",
       "      <th>Grupo_Operador</th>\n",
       "      <th>Incidentes</th>\n",
       "      <th>Ano</th>\n",
       "    </tr>\n",
       "  </thead>\n",
       "  <tbody>\n",
       "    <tr>\n",
       "      <th>2</th>\n",
       "      <td>Arriva London</td>\n",
       "      <td>4945</td>\n",
       "      <td>2015</td>\n",
       "    </tr>\n",
       "    <tr>\n",
       "      <th>7</th>\n",
       "      <td>Metroline</td>\n",
       "      <td>4690</td>\n",
       "      <td>2015</td>\n",
       "    </tr>\n",
       "    <tr>\n",
       "      <th>5</th>\n",
       "      <td>Go-Ahead</td>\n",
       "      <td>4258</td>\n",
       "      <td>2015</td>\n",
       "    </tr>\n",
       "    <tr>\n",
       "      <th>9</th>\n",
       "      <td>Stagecoach</td>\n",
       "      <td>4192</td>\n",
       "      <td>2015</td>\n",
       "    </tr>\n",
       "    <tr>\n",
       "      <th>6</th>\n",
       "      <td>London United</td>\n",
       "      <td>2469</td>\n",
       "      <td>2015</td>\n",
       "    </tr>\n",
       "    <tr>\n",
       "      <th>0</th>\n",
       "      <td>Abellio</td>\n",
       "      <td>1089</td>\n",
       "      <td>2015</td>\n",
       "    </tr>\n",
       "    <tr>\n",
       "      <th>12</th>\n",
       "      <td>Tower Transit</td>\n",
       "      <td>757</td>\n",
       "      <td>2015</td>\n",
       "    </tr>\n",
       "    <tr>\n",
       "      <th>3</th>\n",
       "      <td>Arriva The Shires</td>\n",
       "      <td>306</td>\n",
       "      <td>2015</td>\n",
       "    </tr>\n",
       "    <tr>\n",
       "      <th>8</th>\n",
       "      <td>Quality Line</td>\n",
       "      <td>201</td>\n",
       "      <td>2015</td>\n",
       "    </tr>\n",
       "    <tr>\n",
       "      <th>1</th>\n",
       "      <td>Arriva Kent Thameside</td>\n",
       "      <td>107</td>\n",
       "      <td>2015</td>\n",
       "    </tr>\n",
       "    <tr>\n",
       "      <th>4</th>\n",
       "      <td>CT Plus</td>\n",
       "      <td>77</td>\n",
       "      <td>2015</td>\n",
       "    </tr>\n",
       "    <tr>\n",
       "      <th>11</th>\n",
       "      <td>TGM</td>\n",
       "      <td>63</td>\n",
       "      <td>2016</td>\n",
       "    </tr>\n",
       "    <tr>\n",
       "      <th>10</th>\n",
       "      <td>Sullivan Buses</td>\n",
       "      <td>3</td>\n",
       "      <td>2016</td>\n",
       "    </tr>\n",
       "    <tr>\n",
       "      <th>13</th>\n",
       "      <td>Uno Buses</td>\n",
       "      <td>1</td>\n",
       "      <td>2017</td>\n",
       "    </tr>\n",
       "  </tbody>\n",
       "</table>\n",
       "</div>"
      ],
      "text/plain": [
       "           Grupo_Operador  Incidentes   Ano\n",
       "2           Arriva London        4945  2015\n",
       "7               Metroline        4690  2015\n",
       "5                Go-Ahead        4258  2015\n",
       "9              Stagecoach        4192  2015\n",
       "6           London United        2469  2015\n",
       "0                 Abellio        1089  2015\n",
       "12          Tower Transit         757  2015\n",
       "3       Arriva The Shires         306  2015\n",
       "8            Quality Line         201  2015\n",
       "1   Arriva Kent Thameside         107  2015\n",
       "4                 CT Plus          77  2015\n",
       "11                    TGM          63  2016\n",
       "10         Sullivan Buses           3  2016\n",
       "13              Uno Buses           1  2017"
      ]
     },
     "execution_count": 296,
     "metadata": {},
     "output_type": "execute_result"
    }
   ],
   "source": [
    "ordenado9 = resultado9.sort_values(by=['Incidentes'], ascending = False)\n",
    "ordenado9"
   ]
  },
  {
   "cell_type": "code",
   "execution_count": 297,
   "id": "8a8d6886",
   "metadata": {},
   "outputs": [
    {
     "data": {
      "text/html": [
       "<div>\n",
       "<style scoped>\n",
       "    .dataframe tbody tr th:only-of-type {\n",
       "        vertical-align: middle;\n",
       "    }\n",
       "\n",
       "    .dataframe tbody tr th {\n",
       "        vertical-align: top;\n",
       "    }\n",
       "\n",
       "    .dataframe thead th {\n",
       "        text-align: right;\n",
       "    }\n",
       "</style>\n",
       "<table border=\"1\" class=\"dataframe\">\n",
       "  <thead>\n",
       "    <tr style=\"text-align: right;\">\n",
       "      <th></th>\n",
       "      <th>Grupo_Operador</th>\n",
       "      <th>Incidentes</th>\n",
       "      <th>Ano</th>\n",
       "    </tr>\n",
       "  </thead>\n",
       "  <tbody>\n",
       "    <tr>\n",
       "      <th>2</th>\n",
       "      <td>Arriva London</td>\n",
       "      <td>4945</td>\n",
       "      <td>2015</td>\n",
       "    </tr>\n",
       "    <tr>\n",
       "      <th>7</th>\n",
       "      <td>Metroline</td>\n",
       "      <td>4690</td>\n",
       "      <td>2015</td>\n",
       "    </tr>\n",
       "    <tr>\n",
       "      <th>5</th>\n",
       "      <td>Go-Ahead</td>\n",
       "      <td>4258</td>\n",
       "      <td>2015</td>\n",
       "    </tr>\n",
       "    <tr>\n",
       "      <th>9</th>\n",
       "      <td>Stagecoach</td>\n",
       "      <td>4192</td>\n",
       "      <td>2015</td>\n",
       "    </tr>\n",
       "    <tr>\n",
       "      <th>6</th>\n",
       "      <td>London United</td>\n",
       "      <td>2469</td>\n",
       "      <td>2015</td>\n",
       "    </tr>\n",
       "    <tr>\n",
       "      <th>0</th>\n",
       "      <td>Abellio</td>\n",
       "      <td>1089</td>\n",
       "      <td>2015</td>\n",
       "    </tr>\n",
       "    <tr>\n",
       "      <th>12</th>\n",
       "      <td>Tower Transit</td>\n",
       "      <td>757</td>\n",
       "      <td>2015</td>\n",
       "    </tr>\n",
       "    <tr>\n",
       "      <th>3</th>\n",
       "      <td>Arriva The Shires</td>\n",
       "      <td>306</td>\n",
       "      <td>2015</td>\n",
       "    </tr>\n",
       "    <tr>\n",
       "      <th>8</th>\n",
       "      <td>Quality Line</td>\n",
       "      <td>201</td>\n",
       "      <td>2015</td>\n",
       "    </tr>\n",
       "    <tr>\n",
       "      <th>1</th>\n",
       "      <td>Arriva Kent Thameside</td>\n",
       "      <td>107</td>\n",
       "      <td>2015</td>\n",
       "    </tr>\n",
       "  </tbody>\n",
       "</table>\n",
       "</div>"
      ],
      "text/plain": [
       "           Grupo_Operador  Incidentes   Ano\n",
       "2           Arriva London        4945  2015\n",
       "7               Metroline        4690  2015\n",
       "5                Go-Ahead        4258  2015\n",
       "9              Stagecoach        4192  2015\n",
       "6           London United        2469  2015\n",
       "0                 Abellio        1089  2015\n",
       "12          Tower Transit         757  2015\n",
       "3       Arriva The Shires         306  2015\n",
       "8            Quality Line         201  2015\n",
       "1   Arriva Kent Thameside         107  2015"
      ]
     },
     "execution_count": 297,
     "metadata": {},
     "output_type": "execute_result"
    }
   ],
   "source": [
    "ano_2015 = ordenado9[ordenado9['Ano'] == '2015']\n",
    "ano_2015 = ano_2015.head(10)\n",
    "ano_2015"
   ]
  },
  {
   "cell_type": "code",
   "execution_count": 304,
   "id": "e12c2c23",
   "metadata": {},
   "outputs": [],
   "source": [
    "?plt.barh"
   ]
  },
  {
   "cell_type": "code",
   "execution_count": 316,
   "id": "86738cf9",
   "metadata": {},
   "outputs": [
    {
     "data": {
      "image/png": "[encoded data removed]",
      "text/plain": [
       "<Figure size 800x400 with 1 Axes>"
      ]
     },
     "metadata": {},
     "output_type": "display_data"
    }
   ],
   "source": [
    "plt.barh(ano_2015['Grupo_Operador'], width = ano_2015['Incidentes'], data = ano_2015, color = cores)\n",
    "title = plt.title(\"Evolução Operadores ao Longo de 2015\")\n",
    "title.set_backgroundcolor('gainsboro')\n",
    "title.set_color(\"gray\")\n",
    "plt.xlim(0,5000)\n",
    "plt.show()"
   ]
  },
  {
   "cell_type": "markdown",
   "id": "b773b011",
   "metadata": {},
   "source": [
    "### 10- Qual o tipo de incidente mais comum com ciclistas?"
   ]
  },
  {
   "cell_type": "code",
   "execution_count": 317,
   "id": "603ca469",
   "metadata": {},
   "outputs": [],
   "source": [
    "exercicio10 = 'SELECT Incident_Event_Type, COUNT(*) AS  Number_Incident FROM  dados WHERE Victim_Category = \"Cyclist\" GROUP BY Incident_Event_Type ORDER BY Number_Incident DESC LIMIT 1'"
   ]
  },
  {
   "cell_type": "code",
   "execution_count": 318,
   "id": "7231265e",
   "metadata": {},
   "outputs": [
    {
     "data": {
      "text/html": [
       "<div>\n",
       "<style scoped>\n",
       "    .dataframe tbody tr th:only-of-type {\n",
       "        vertical-align: middle;\n",
       "    }\n",
       "\n",
       "    .dataframe tbody tr th {\n",
       "        vertical-align: top;\n",
       "    }\n",
       "\n",
       "    .dataframe thead th {\n",
       "        text-align: right;\n",
       "    }\n",
       "</style>\n",
       "<table border=\"1\" class=\"dataframe\">\n",
       "  <thead>\n",
       "    <tr style=\"text-align: right;\">\n",
       "      <th></th>\n",
       "      <th>Incident_Event_Type</th>\n",
       "      <th>Number_Incident</th>\n",
       "    </tr>\n",
       "  </thead>\n",
       "  <tbody>\n",
       "    <tr>\n",
       "      <th>0</th>\n",
       "      <td>Collision Incident</td>\n",
       "      <td>256</td>\n",
       "    </tr>\n",
       "  </tbody>\n",
       "</table>\n",
       "</div>"
      ],
      "text/plain": [
       "  Incident_Event_Type  Number_Incident\n",
       "0  Collision Incident              256"
      ]
     },
     "execution_count": 318,
     "metadata": {},
     "output_type": "execute_result"
    }
   ],
   "source": [
    "pysqldf(exercicio10)"
   ]
  },
  {
   "cell_type": "code",
   "execution_count": 319,
   "id": "1e0bd502",
   "metadata": {},
   "outputs": [],
   "source": [
    "exercicio10_TABELA = 'SELECT Incident_Event_Type, COUNT(*) AS  Number_Incident FROM  dados WHERE Victim_Category = \"Cyclist\" GROUP BY Incident_Event_Type ORDER BY Number_Incident DESC'"
   ]
  },
  {
   "cell_type": "code",
   "execution_count": 320,
   "id": "2faf7545",
   "metadata": {},
   "outputs": [],
   "source": [
    "exercicio10_T = pysqldf(exercicio10_TABELA)"
   ]
  },
  {
   "cell_type": "code",
   "execution_count": 321,
   "id": "6e13707e",
   "metadata": {},
   "outputs": [
    {
     "data": {
      "text/html": [
       "<div>\n",
       "<style scoped>\n",
       "    .dataframe tbody tr th:only-of-type {\n",
       "        vertical-align: middle;\n",
       "    }\n",
       "\n",
       "    .dataframe tbody tr th {\n",
       "        vertical-align: top;\n",
       "    }\n",
       "\n",
       "    .dataframe thead th {\n",
       "        text-align: right;\n",
       "    }\n",
       "</style>\n",
       "<table border=\"1\" class=\"dataframe\">\n",
       "  <thead>\n",
       "    <tr style=\"text-align: right;\">\n",
       "      <th></th>\n",
       "      <th>Incident_Event_Type</th>\n",
       "      <th>Number_Incident</th>\n",
       "    </tr>\n",
       "  </thead>\n",
       "  <tbody>\n",
       "    <tr>\n",
       "      <th>0</th>\n",
       "      <td>Collision Incident</td>\n",
       "      <td>256</td>\n",
       "    </tr>\n",
       "    <tr>\n",
       "      <th>1</th>\n",
       "      <td>Personal Injury</td>\n",
       "      <td>8</td>\n",
       "    </tr>\n",
       "    <tr>\n",
       "      <th>2</th>\n",
       "      <td>Slip Trip Fall</td>\n",
       "      <td>7</td>\n",
       "    </tr>\n",
       "    <tr>\n",
       "      <th>3</th>\n",
       "      <td>Onboard Injuries</td>\n",
       "      <td>4</td>\n",
       "    </tr>\n",
       "  </tbody>\n",
       "</table>\n",
       "</div>"
      ],
      "text/plain": [
       "  Incident_Event_Type  Number_Incident\n",
       "0  Collision Incident              256\n",
       "1     Personal Injury                8\n",
       "2      Slip Trip Fall                7\n",
       "3    Onboard Injuries                4"
      ]
     },
     "execution_count": 321,
     "metadata": {},
     "output_type": "execute_result"
    }
   ],
   "source": [
    "exercicio10_T"
   ]
  },
  {
   "cell_type": "code",
   "execution_count": 333,
   "id": "5eee96a2",
   "metadata": {},
   "outputs": [
    {
     "data": {
      "image/png": "[encoded data removed]",
      "text/plain": [
       "<Figure size 1000x500 with 1 Axes>"
      ]
     },
     "metadata": {},
     "output_type": "display_data"
    }
   ],
   "source": [
    "plt.figure(figsize = [10,5])\n",
    "\n",
    "ax = sns.barplot(data=exercicio10_T, x=\"Incident_Event_Type\", y = \"Number_Incident\")\n",
    "for p in ax.patches:\n",
    "    if not(-0.5 <= p.get_x() < 0):\n",
    "        p.set_facecolor('lightgrey')\n",
    "        title = ax.set_title(\"Tipo de incidente mais comum com ciclistas\")\n",
    "        title.set_backgroundcolor(\"gainsboro\")\n",
    "        ax.set_xlabel(\" \")\n",
    "        ax.set_ylabel(\" \")\n",
    "        ax.set_xticklabels([\"Collision Incident\", \"Personal Injury\", \"Slip Trip Fall\", \"Onboard Injuries\"])\n",
    "plt.show()"
   ]
  }
 ],
 "metadata": {
  "kernelspec": {
   "display_name": "Python 3 (ipykernel)",
   "language": "python",
   "name": "python3"
  },
  "language_info": {
   "codemirror_mode": {
    "name": "ipython",
    "version": 3
   },
   "file_extension": ".py",
   "mimetype": "text/x-python",
   "name": "python",
   "nbconvert_exporter": "python",
   "pygments_lexer": "ipython3",
   "version": "3.9.7"
  }
 },
 "nbformat": 4,
 "nbformat_minor": 5
}
